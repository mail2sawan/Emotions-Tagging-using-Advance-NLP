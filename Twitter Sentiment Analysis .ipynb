{
 "cells": [
  {
   "cell_type": "markdown",
   "metadata": {},
   "source": [
    "#                                  Trinity Assignment"
   ]
  },
  {
   "cell_type": "markdown",
   "metadata": {},
   "source": [
    "## Twitter Sentiment Analysis and Emotion Tagging"
   ]
  },
  {
   "cell_type": "code",
   "execution_count": 1,
   "metadata": {},
   "outputs": [
    {
     "name": "stderr",
     "output_type": "stream",
     "text": [
      "C:\\Users\\Sawan\\Anaconda3\\lib\\site-packages\\gensim\\utils.py:1212: UserWarning: detected Windows; aliasing chunkize to chunkize_serial\n",
      "  warnings.warn(\"detected Windows; aliasing chunkize to chunkize_serial\")\n"
     ]
    }
   ],
   "source": [
    "# First of all, let's import the data and specify all imports we will use in this kernel.\n",
    "\n",
    "import pandas as pd\n",
    "import numpy as np\n",
    "from collections import Counter\n",
    "import re\n",
    "import copy\n",
    "import json\n",
    "\n",
    "# languange processing imports\n",
    "import nltk\n",
    "from gensim.corpora import Dictionary\n",
    "# preprocessing imports\n",
    "from sklearn.preprocessing import LabelEncoder\n",
    "from nltk.corpus import stopwords\n",
    "\n",
    "#get gender by name\n",
    "import gender_guesser.detector as gender\n",
    "\n",
    "# model imports\n",
    "from gensim.models.ldamulticore import LdaMulticore\n",
    "from gensim.models.word2vec import Word2Vec\n",
    "from sklearn.linear_model import LogisticRegression\n",
    "# hyperparameter training imports\n",
    "from sklearn.model_selection import GridSearchCV\n",
    "from textblob import TextBlob\n",
    "\n",
    "# visualization imports\n",
    "from IPython.display import display\n",
    "import seaborn as sns\n",
    "import matplotlib.pyplot as plt\n",
    "import matplotlib.image as mpimg\n",
    "import base64\n",
    "import io\n",
    "%matplotlib inline\n",
    "sns.set()"
   ]
  },
  {
   "cell_type": "code",
   "execution_count": 2,
   "metadata": {},
   "outputs": [
    {
     "data": {
      "text/html": [
       "<div>\n",
       "<style scoped>\n",
       "    .dataframe tbody tr th:only-of-type {\n",
       "        vertical-align: middle;\n",
       "    }\n",
       "\n",
       "    .dataframe tbody tr th {\n",
       "        vertical-align: top;\n",
       "    }\n",
       "\n",
       "    .dataframe thead th {\n",
       "        text-align: right;\n",
       "    }\n",
       "</style>\n",
       "<table border=\"1\" class=\"dataframe\">\n",
       "  <thead>\n",
       "    <tr style=\"text-align: right;\">\n",
       "      <th></th>\n",
       "      <th>id</th>\n",
       "      <th>name</th>\n",
       "      <th>tweet</th>\n",
       "    </tr>\n",
       "  </thead>\n",
       "  <tbody>\n",
       "    <tr>\n",
       "      <th>0</th>\n",
       "      <td>593891099434983425</td>\n",
       "      <td>Silver Shoes</td>\n",
       "      <td>RT @KirkKus: Indirect cost of the UK being in the EU is estimated to be costing Britain £170 billion per year! #BetterOffOut #UKIP</td>\n",
       "    </tr>\n",
       "    <tr>\n",
       "      <th>1</th>\n",
       "      <td>593891099548094465</td>\n",
       "      <td>Raymond Jones</td>\n",
       "      <td>VIDEO: Sturgeon on post-election deals http://t.co/BTJwrpbmOY</td>\n",
       "    </tr>\n",
       "    <tr>\n",
       "      <th>2</th>\n",
       "      <td>593891099388846080</td>\n",
       "      <td>kate</td>\n",
       "      <td>RT @LabourEoin: The economy was growing 3 times faster on the day David Cameron became Prime Minister than it is today.. #BBCqt http://t.co…</td>\n",
       "    </tr>\n",
       "    <tr>\n",
       "      <th>3</th>\n",
       "      <td>593891100429045760</td>\n",
       "      <td>Rachel</td>\n",
       "      <td>RT @GregLauder: the UKIP east lothian candidate looks about 16 and still has an msn addy http://t.co/7eIU0c5Fm1</td>\n",
       "    </tr>\n",
       "    <tr>\n",
       "      <th>4</th>\n",
       "      <td>593891100768784384</td>\n",
       "      <td>Stuart</td>\n",
       "      <td>RT @thesundaypeople: UKIP's housing spokesman rakes in £800k in housing benefit from migrants.  http://t.co/GVwb9Rcb4w http://t.co/c1AZxcLh…</td>\n",
       "    </tr>\n",
       "  </tbody>\n",
       "</table>\n",
       "</div>"
      ],
      "text/plain": [
       "                   id           name  \\\n",
       "0  593891099434983425  Silver Shoes    \n",
       "1  593891099548094465  Raymond Jones   \n",
       "2  593891099388846080  kate            \n",
       "3  593891100429045760  Rachel          \n",
       "4  593891100768784384  Stuart          \n",
       "\n",
       "                                                                                                                                          tweet  \n",
       "0  RT @KirkKus: Indirect cost of the UK being in the EU is estimated to be costing Britain £170 billion per year! #BetterOffOut #UKIP            \n",
       "1  VIDEO: Sturgeon on post-election deals http://t.co/BTJwrpbmOY                                                                                 \n",
       "2  RT @LabourEoin: The economy was growing 3 times faster on the day David Cameron became Prime Minister than it is today.. #BBCqt http://t.co…  \n",
       "3  RT @GregLauder: the UKIP east lothian candidate looks about 16 and still has an msn addy http://t.co/7eIU0c5Fm1                               \n",
       "4  RT @thesundaypeople: UKIP's housing spokesman rakes in £800k in housing benefit from migrants.  http://t.co/GVwb9Rcb4w http://t.co/c1AZxcLh…  "
      ]
     },
     "execution_count": 2,
     "metadata": {},
     "output_type": "execute_result"
    }
   ],
   "source": [
    "# setting display width for pandas column\n",
    "pd.set_option('display.max_colwidth', -1)\n",
    "\n",
    "tweet_lst = []\n",
    "tweet_dict = {}\n",
    "\n",
    "with open('tweets.json', 'r') as fh:\n",
    "    for line in fh:\n",
    "        tweet = json.loads(line)\n",
    "        tweet_dict[\"id\"] = tweet[\"id\"]\n",
    "        tweet_dict[\"tweet\"] = tweet[\"text\"]\n",
    "        tweet_dict[\"name\"] = tweet[\"user\"][\"name\"]\n",
    "        tweet_lst.append(copy.deepcopy(tweet_dict))\n",
    "test_data = pd.DataFrame(tweet_lst)\n",
    "test_data.head()"
   ]
  },
  {
   "cell_type": "code",
   "execution_count": 3,
   "metadata": {},
   "outputs": [
    {
     "name": "stderr",
     "output_type": "stream",
     "text": [
      "C:\\Users\\Sawan\\Anaconda3\\lib\\site-packages\\pandas\\core\\dtypes\\inference.py:244: FutureWarning: Possible nested set at position 1\n",
      "  re.compile(obj)\n"
     ]
    },
    {
     "name": "stdout",
     "output_type": "stream",
     "text": [
      "(20000, 6)\n",
      "(9712, 6)\n"
     ]
    },
    {
     "data": {
      "text/html": [
       "<div>\n",
       "<style scoped>\n",
       "    .dataframe tbody tr th:only-of-type {\n",
       "        vertical-align: middle;\n",
       "    }\n",
       "\n",
       "    .dataframe tbody tr th {\n",
       "        vertical-align: top;\n",
       "    }\n",
       "\n",
       "    .dataframe thead th {\n",
       "        text-align: right;\n",
       "    }\n",
       "</style>\n",
       "<table border=\"1\" class=\"dataframe\">\n",
       "  <thead>\n",
       "    <tr style=\"text-align: right;\">\n",
       "      <th></th>\n",
       "      <th>id</th>\n",
       "      <th>name</th>\n",
       "      <th>tweet</th>\n",
       "      <th>cleaned_tweet</th>\n",
       "      <th>fully_cleaned_tweet</th>\n",
       "      <th>text</th>\n",
       "    </tr>\n",
       "  </thead>\n",
       "  <tbody>\n",
       "    <tr>\n",
       "      <th>0</th>\n",
       "      <td>593891099434983425</td>\n",
       "      <td>Silver Shoes</td>\n",
       "      <td>RT @KirkKus: Indirect cost of the UK being in the EU is estimated to be costing Britain £170 billion per year! #BetterOffOut #UKIP</td>\n",
       "      <td>kirkkus  indirect cost  the  being  the   estimated   costing britain  170 billion per year</td>\n",
       "      <td>kirkkus indirect cost the being the estimated costing britain 170 billion per year</td>\n",
       "      <td>kirkkus indirect cost the being the estimated costing britain 170 billion per year</td>\n",
       "    </tr>\n",
       "    <tr>\n",
       "      <th>3</th>\n",
       "      <td>593891100429045760</td>\n",
       "      <td>Rachel</td>\n",
       "      <td>RT @GregLauder: the UKIP east lothian candidate looks about 16 and still has an msn addy http://t.co/7eIU0c5Fm1</td>\n",
       "      <td>greglauder  the ukip east lothian candidate looks about 16 and still has  msn addy</td>\n",
       "      <td>greglauder the ukip east lothian candidate looks about 16 and still has msn addy</td>\n",
       "      <td>greglauder the ukip east lothian candidate looks about 16 and still has msn addy</td>\n",
       "    </tr>\n",
       "    <tr>\n",
       "      <th>6</th>\n",
       "      <td>593891101154619392</td>\n",
       "      <td>moosehead</td>\n",
       "      <td>RT @joannetallis: Ed Milliband is an embarrassment. Would you want him representing the UK?!  #bbcqt vote @Conservatives</td>\n",
       "      <td>joannetallis   milliband   embarrassment would you want him representing the     vote  conservatives</td>\n",
       "      <td>joannetallis milliband embarrassment would you want him representing the vote conservatives</td>\n",
       "      <td>joannetallis milliband embarrassment would you want him representing the vote conservatives</td>\n",
       "    </tr>\n",
       "    <tr>\n",
       "      <th>8</th>\n",
       "      <td>593891101838340096</td>\n",
       "      <td>Richard Harding</td>\n",
       "      <td>RT @NivenJ1: “@George_Osborne: Ed Miliband proved tonight why he's not up to the job” Tbf you've spent 5 years doing that you salivating do…</td>\n",
       "      <td>nivenj1    george osborne   miliband proved tonight why hes not   the job  tbf youve spent 5 years doing that you salivating</td>\n",
       "      <td>nivenj1 george osborne miliband proved tonight why hes not the job tbf youve spent 5 years doing that you salivating</td>\n",
       "      <td>nivenj1 george osborne miliband proved tonight why hes not the job tbf youve spent 5 years doing that you salivating</td>\n",
       "    </tr>\n",
       "    <tr>\n",
       "      <th>9</th>\n",
       "      <td>593891101313896449</td>\n",
       "      <td>Phyllis de Vatois</td>\n",
       "      <td>LOLZ to Trickle Down Wealth. It's never trickling past their own wallets. Greed always wins $$$ for the greedy.  https://t.co/X7deoPbS97</td>\n",
       "      <td>lolz  trickle down wealth its never trickling past their own wallets greed always wins     for the greedy</td>\n",
       "      <td>lolz trickle down wealth its never trickling past their own wallets greed always wins for the greedy</td>\n",
       "      <td>lolz trickle down wealth its never trickling past their own wallets greed always wins for the greedy</td>\n",
       "    </tr>\n",
       "  </tbody>\n",
       "</table>\n",
       "</div>"
      ],
      "text/plain": [
       "                   id               name  \\\n",
       "0  593891099434983425  Silver Shoes        \n",
       "3  593891100429045760  Rachel              \n",
       "6  593891101154619392  moosehead           \n",
       "8  593891101838340096  Richard Harding     \n",
       "9  593891101313896449  Phyllis de Vatois   \n",
       "\n",
       "                                                                                                                                          tweet  \\\n",
       "0  RT @KirkKus: Indirect cost of the UK being in the EU is estimated to be costing Britain £170 billion per year! #BetterOffOut #UKIP             \n",
       "3  RT @GregLauder: the UKIP east lothian candidate looks about 16 and still has an msn addy http://t.co/7eIU0c5Fm1                                \n",
       "6  RT @joannetallis: Ed Milliband is an embarrassment. Would you want him representing the UK?!  #bbcqt vote @Conservatives                       \n",
       "8  RT @NivenJ1: “@George_Osborne: Ed Miliband proved tonight why he's not up to the job” Tbf you've spent 5 years doing that you salivating do…   \n",
       "9  LOLZ to Trickle Down Wealth. It's never trickling past their own wallets. Greed always wins $$$ for the greedy.  https://t.co/X7deoPbS97       \n",
       "\n",
       "                                                                                                                   cleaned_tweet  \\\n",
       "0  kirkkus  indirect cost  the  being  the   estimated   costing britain  170 billion per year                                     \n",
       "3  greglauder  the ukip east lothian candidate looks about 16 and still has  msn addy                                              \n",
       "6  joannetallis   milliband   embarrassment would you want him representing the     vote  conservatives                            \n",
       "8  nivenj1    george osborne   miliband proved tonight why hes not   the job  tbf youve spent 5 years doing that you salivating    \n",
       "9  lolz  trickle down wealth its never trickling past their own wallets greed always wins     for the greedy                       \n",
       "\n",
       "                                                                                                    fully_cleaned_tweet  \\\n",
       "0  kirkkus indirect cost the being the estimated costing britain 170 billion per year                                     \n",
       "3  greglauder the ukip east lothian candidate looks about 16 and still has msn addy                                       \n",
       "6  joannetallis milliband embarrassment would you want him representing the vote conservatives                            \n",
       "8  nivenj1 george osborne miliband proved tonight why hes not the job tbf youve spent 5 years doing that you salivating   \n",
       "9  lolz trickle down wealth its never trickling past their own wallets greed always wins for the greedy                   \n",
       "\n",
       "                                                                                                                   text  \n",
       "0  kirkkus indirect cost the being the estimated costing britain 170 billion per year                                    \n",
       "3  greglauder the ukip east lothian candidate looks about 16 and still has msn addy                                      \n",
       "6  joannetallis milliband embarrassment would you want him representing the vote conservatives                           \n",
       "8  nivenj1 george osborne miliband proved tonight why hes not the job tbf youve spent 5 years doing that you salivating  \n",
       "9  lolz trickle down wealth its never trickling past their own wallets greed always wins for the greedy                  "
      ]
     },
     "execution_count": 3,
     "metadata": {},
     "output_type": "execute_result"
    }
   ],
   "source": [
    "# Cleaning the data\n",
    "\n",
    "test_data['cleaned_tweet'] = test_data['tweet'].replace(r'#\\w*','',regex = True)\n",
    "test_data['cleaned_tweet'] = test_data['cleaned_tweet'].replace(r'\\'|\\\"|\\,|\\.|\\?|\\+|\\-|\\/|\\=|\\(|\\)|\\n|\"', '', regex=True)\n",
    "test_data['cleaned_tweet'] = test_data['cleaned_tweet'].replace(\"  \", \" \")\n",
    "\n",
    "words_remove = [\"ax\",\"i\",\"you\",\"edu\",\"s\",\"t\",\"m\",\"subject\",\"can\",\"lines\",\"re\",\"what\", \"there\",\"all\",\"we\",\n",
    "                \"one\",\"the\",\"a\",\"an\",\"of\",\"or\",\"in\",\"for\",\"by\",\"on\",\"but\",\"is\",\"in\",\"a\",\"not\",\"with\",\"as\",\n",
    "                \"was\",\"if\",\"they\",\"are\",\"this\",\"and\",\"it\",\"have\",\"has\",\"from\",\"at\",\"my\",\"be\",\"by\",\"not\",\"that\",\"to\",\n",
    "                \"from\",\"com\",\"org\",\"like\",\"likes\",\"so\",\"said\",\"from\",\"what\",\"told\",\"over\",\"more\",\"other\",\n",
    "                \"have\",\"last\",\"with\",\"this\",\"that\",\"such\",\"when\",\"been\",\"says\",\"will\",\"also\",\"where\",\"why\",\n",
    "                \"would\",\"today\", \"in\", \"on\", \"you\", \"r\", \"d\", \"u\", \"hw\",\"wat\", \"oly\", \"s\", \"b\", \"ht\", \n",
    "                \"rt\", \"p\",\"the\",\"th\", \"n\", \"was\"]\n",
    "\n",
    "\n",
    "def cleantext(df, words_to_remove = words_remove): \n",
    "    ### dont change the original tweet\n",
    "    # remove emoticons form the tweets\n",
    "    df['cleaned_tweet'] = df['cleaned_tweet'].replace(r'<ed>','', regex = True)\n",
    "    df['cleaned_tweet'] = df['cleaned_tweet'].replace(r'\\B<U+.*>|<U+.*>\\B|<U+.*>','', regex = True)\n",
    "    \n",
    "    # convert tweets to lowercase\n",
    "    df['cleaned_tweet'] = df['cleaned_tweet'].str.lower()\n",
    "    \n",
    "    #remove user mentions\n",
    "    df['cleaned_tweet'] = df['cleaned_tweet'].replace(r'^(@\\w+)',\"\", regex=True)\n",
    "    \n",
    "    #remove 'rt' in the beginning\n",
    "    df['cleaned_tweet'] = df['cleaned_tweet'].replace(r'^(rt @)',\"\", regex=True)\n",
    "    \n",
    "    #remove_symbols\n",
    "    df['cleaned_tweet'] = df['cleaned_tweet'].replace(r'[^a-zA-Z0-9]', \" \", regex=True)\n",
    "\n",
    "    #remove punctuations \n",
    "    df['cleaned_tweet'] = df['cleaned_tweet'].replace(r'[[]!\"#$%\\'()\\*+,-./:;<=>?^_`{|}]+',\"\", regex = True)\n",
    "\n",
    "    #remove_URL(x):\n",
    "    df['cleaned_tweet'] = df['cleaned_tweet'].replace(r'https.*$', \"\", regex = True)\n",
    "    \n",
    "    #remove_URL(x):\n",
    "    df['cleaned_tweet'] = df['cleaned_tweet'].replace(r'http.*$', \"\", regex = True)\n",
    "\n",
    "    #remove 'amp' in the text\n",
    "    df['cleaned_tweet'] = df['cleaned_tweet'].replace(r'amp',\"\", regex = True)\n",
    "    \n",
    "    #remove words of length 1 or 2 \n",
    "    df['cleaned_tweet'] = df['cleaned_tweet'].replace(r'\\b[a-zA-Z]{1,2}\\b','', regex=True)\n",
    "\n",
    "    #remove extra spaces in the tweet\n",
    "    df['cleaned_tweet'] = df['cleaned_tweet'].replace(r'^\\s+|\\s+$',\" \", regex=True)\n",
    "     \n",
    "    \n",
    "    #remove stopwords and words_to_remove\n",
    "    stop_words = set(stopwords.words('english'))\n",
    "    mystopwords = [stop_words, \"via\", words_to_remove]\n",
    "    \n",
    "    df['fully_cleaned_tweet'] = df['cleaned_tweet'].apply(lambda x: ' '.join([word for word in x.split() if word not in mystopwords]))\n",
    "    \n",
    "\n",
    "    return df\n",
    "\n",
    "\n",
    "#get the processed tweets\n",
    "test_data = cleantext(test_data)\n",
    "test_data[\"text\"] = test_data[\"fully_cleaned_tweet\"]\n",
    "print(test_data.shape)\n",
    "\n",
    "# droping the duplicates tweet or the retweeted data\n",
    "test_data = test_data.drop_duplicates(subset='fully_cleaned_tweet', keep=\"last\")\n",
    "print(test_data.shape)\n",
    "\n",
    "test_data.head()\n"
   ]
  },
  {
   "cell_type": "markdown",
   "metadata": {},
   "source": [
    "### Classify the users into Male, Female, Organization or Uncategorized"
   ]
  },
  {
   "cell_type": "code",
   "execution_count": 4,
   "metadata": {},
   "outputs": [
    {
     "data": {
      "text/html": [
       "<div>\n",
       "<style scoped>\n",
       "    .dataframe tbody tr th:only-of-type {\n",
       "        vertical-align: middle;\n",
       "    }\n",
       "\n",
       "    .dataframe tbody tr th {\n",
       "        vertical-align: top;\n",
       "    }\n",
       "\n",
       "    .dataframe thead th {\n",
       "        text-align: right;\n",
       "    }\n",
       "</style>\n",
       "<table border=\"1\" class=\"dataframe\">\n",
       "  <thead>\n",
       "    <tr style=\"text-align: right;\">\n",
       "      <th></th>\n",
       "      <th>id</th>\n",
       "      <th>name</th>\n",
       "      <th>tweet</th>\n",
       "      <th>cleaned_tweet</th>\n",
       "      <th>fully_cleaned_tweet</th>\n",
       "      <th>text</th>\n",
       "      <th>category</th>\n",
       "    </tr>\n",
       "  </thead>\n",
       "  <tbody>\n",
       "    <tr>\n",
       "      <th>0</th>\n",
       "      <td>593891099434983425</td>\n",
       "      <td>Silver Shoes</td>\n",
       "      <td>RT @KirkKus: Indirect cost of the UK being in the EU is estimated to be costing Britain £170 billion per year! #BetterOffOut #UKIP</td>\n",
       "      <td>kirkkus  indirect cost  the  being  the   estimated   costing britain  170 billion per year</td>\n",
       "      <td>kirkkus indirect cost the being the estimated costing britain 170 billion per year</td>\n",
       "      <td>kirkkus indirect cost the being the estimated costing britain 170 billion per year</td>\n",
       "      <td>male</td>\n",
       "    </tr>\n",
       "    <tr>\n",
       "      <th>3</th>\n",
       "      <td>593891100429045760</td>\n",
       "      <td>Rachel</td>\n",
       "      <td>RT @GregLauder: the UKIP east lothian candidate looks about 16 and still has an msn addy http://t.co/7eIU0c5Fm1</td>\n",
       "      <td>greglauder  the ukip east lothian candidate looks about 16 and still has  msn addy</td>\n",
       "      <td>greglauder the ukip east lothian candidate looks about 16 and still has msn addy</td>\n",
       "      <td>greglauder the ukip east lothian candidate looks about 16 and still has msn addy</td>\n",
       "      <td>female</td>\n",
       "    </tr>\n",
       "    <tr>\n",
       "      <th>6</th>\n",
       "      <td>593891101154619392</td>\n",
       "      <td>moosehead</td>\n",
       "      <td>RT @joannetallis: Ed Milliband is an embarrassment. Would you want him representing the UK?!  #bbcqt vote @Conservatives</td>\n",
       "      <td>joannetallis   milliband   embarrassment would you want him representing the     vote  conservatives</td>\n",
       "      <td>joannetallis milliband embarrassment would you want him representing the vote conservatives</td>\n",
       "      <td>joannetallis milliband embarrassment would you want him representing the vote conservatives</td>\n",
       "      <td>organization</td>\n",
       "    </tr>\n",
       "    <tr>\n",
       "      <th>8</th>\n",
       "      <td>593891101838340096</td>\n",
       "      <td>Richard Harding</td>\n",
       "      <td>RT @NivenJ1: “@George_Osborne: Ed Miliband proved tonight why he's not up to the job” Tbf you've spent 5 years doing that you salivating do…</td>\n",
       "      <td>nivenj1    george osborne   miliband proved tonight why hes not   the job  tbf youve spent 5 years doing that you salivating</td>\n",
       "      <td>nivenj1 george osborne miliband proved tonight why hes not the job tbf youve spent 5 years doing that you salivating</td>\n",
       "      <td>nivenj1 george osborne miliband proved tonight why hes not the job tbf youve spent 5 years doing that you salivating</td>\n",
       "      <td>male</td>\n",
       "    </tr>\n",
       "    <tr>\n",
       "      <th>9</th>\n",
       "      <td>593891101313896449</td>\n",
       "      <td>Phyllis de Vatois</td>\n",
       "      <td>LOLZ to Trickle Down Wealth. It's never trickling past their own wallets. Greed always wins $$$ for the greedy.  https://t.co/X7deoPbS97</td>\n",
       "      <td>lolz  trickle down wealth its never trickling past their own wallets greed always wins     for the greedy</td>\n",
       "      <td>lolz trickle down wealth its never trickling past their own wallets greed always wins for the greedy</td>\n",
       "      <td>lolz trickle down wealth its never trickling past their own wallets greed always wins for the greedy</td>\n",
       "      <td>female</td>\n",
       "    </tr>\n",
       "  </tbody>\n",
       "</table>\n",
       "</div>"
      ],
      "text/plain": [
       "                   id               name  \\\n",
       "0  593891099434983425  Silver Shoes        \n",
       "3  593891100429045760  Rachel              \n",
       "6  593891101154619392  moosehead           \n",
       "8  593891101838340096  Richard Harding     \n",
       "9  593891101313896449  Phyllis de Vatois   \n",
       "\n",
       "                                                                                                                                          tweet  \\\n",
       "0  RT @KirkKus: Indirect cost of the UK being in the EU is estimated to be costing Britain £170 billion per year! #BetterOffOut #UKIP             \n",
       "3  RT @GregLauder: the UKIP east lothian candidate looks about 16 and still has an msn addy http://t.co/7eIU0c5Fm1                                \n",
       "6  RT @joannetallis: Ed Milliband is an embarrassment. Would you want him representing the UK?!  #bbcqt vote @Conservatives                       \n",
       "8  RT @NivenJ1: “@George_Osborne: Ed Miliband proved tonight why he's not up to the job” Tbf you've spent 5 years doing that you salivating do…   \n",
       "9  LOLZ to Trickle Down Wealth. It's never trickling past their own wallets. Greed always wins $$$ for the greedy.  https://t.co/X7deoPbS97       \n",
       "\n",
       "                                                                                                                   cleaned_tweet  \\\n",
       "0  kirkkus  indirect cost  the  being  the   estimated   costing britain  170 billion per year                                     \n",
       "3  greglauder  the ukip east lothian candidate looks about 16 and still has  msn addy                                              \n",
       "6  joannetallis   milliband   embarrassment would you want him representing the     vote  conservatives                            \n",
       "8  nivenj1    george osborne   miliband proved tonight why hes not   the job  tbf youve spent 5 years doing that you salivating    \n",
       "9  lolz  trickle down wealth its never trickling past their own wallets greed always wins     for the greedy                       \n",
       "\n",
       "                                                                                                    fully_cleaned_tweet  \\\n",
       "0  kirkkus indirect cost the being the estimated costing britain 170 billion per year                                     \n",
       "3  greglauder the ukip east lothian candidate looks about 16 and still has msn addy                                       \n",
       "6  joannetallis milliband embarrassment would you want him representing the vote conservatives                            \n",
       "8  nivenj1 george osborne miliband proved tonight why hes not the job tbf youve spent 5 years doing that you salivating   \n",
       "9  lolz trickle down wealth its never trickling past their own wallets greed always wins for the greedy                   \n",
       "\n",
       "                                                                                                                   text  \\\n",
       "0  kirkkus indirect cost the being the estimated costing britain 170 billion per year                                     \n",
       "3  greglauder the ukip east lothian candidate looks about 16 and still has msn addy                                       \n",
       "6  joannetallis milliband embarrassment would you want him representing the vote conservatives                            \n",
       "8  nivenj1 george osborne miliband proved tonight why hes not the job tbf youve spent 5 years doing that you salivating   \n",
       "9  lolz trickle down wealth its never trickling past their own wallets greed always wins for the greedy                   \n",
       "\n",
       "       category  \n",
       "0  male          \n",
       "3  female        \n",
       "6  organization  \n",
       "8  male          \n",
       "9  female        "
      ]
     },
     "execution_count": 4,
     "metadata": {},
     "output_type": "execute_result"
    }
   ],
   "source": [
    "d = gender.Detector(case_sensitive=False)\n",
    "def getGender(name):\n",
    "    try:\n",
    "        u_name_list = [\"1\",\"2\",\"3\",\"4\",\"5\",\"6\",\"7\",\"8\",\"9\",\"0\",\"@\", \"#\",\"$\",\"_\"]\n",
    "        category = d.get_gender(str(name).split(\" \")[0])\n",
    "        if category == \"male\" or category == \"female\":\n",
    "            return category\n",
    "        elif category == \"mostly_male\" or category == \"mostly_female\" or category == \"unknown\":\n",
    "            for i in u_name_list:\n",
    "                if i in list(name):\n",
    "                    return \"uncategorized\"\n",
    "            else:\n",
    "                return \"organization\"\n",
    "    except:\n",
    "        return \"uncategorized\"\n",
    "test_data[\"category\"] = test_data[\"name\"].apply(lambda x: getGender(x))\n",
    "test_data.head()"
   ]
  },
  {
   "cell_type": "markdown",
   "metadata": {},
   "source": [
    "## Add Sentiment for each tweet using text blob\n",
    "\n",
    "### First lets see how textblob works"
   ]
  },
  {
   "cell_type": "code",
   "execution_count": 5,
   "metadata": {},
   "outputs": [
    {
     "name": "stdout",
     "output_type": "stream",
     "text": [
      "0.9099999999999999\n",
      "1.0\n",
      "-0.5\n"
     ]
    }
   ],
   "source": [
    "# See how text blob works\n",
    "\n",
    "print(TextBlob(\"Today India played very good in finals\").sentiment.polarity)\n",
    "print(TextBlob(\"Dhoni is best caption\").sentiment.polarity)\n",
    "print(TextBlob(\"Today yuvraj performance was worst in his entire carrier\").sentiment.polarity)"
   ]
  },
  {
   "cell_type": "code",
   "execution_count": 7,
   "metadata": {},
   "outputs": [
    {
     "name": "stderr",
     "output_type": "stream",
     "text": [
      "C:\\Users\\Sawan\\Anaconda3\\lib\\site-packages\\scipy\\stats\\stats.py:1713: FutureWarning: Using a non-tuple sequence for multidimensional indexing is deprecated; use `arr[tuple(seq)]` instead of `arr[seq]`. In the future this will be interpreted as an array index, `arr[np.array(seq)]`, which will result either in an error or a different result.\n",
      "  return np.add.reduce(sorted[indexer] * weights, axis=axis) / sumval\n"
     ]
    },
    {
     "data": {
      "text/plain": [
       "<matplotlib.axes._subplots.AxesSubplot at 0x1421ed6ec18>"
      ]
     },
     "execution_count": 7,
     "metadata": {},
     "output_type": "execute_result"
    },
    {
     "data": {
      "image/png": "[encoded data removed]",
      "text/plain": [
       "<Figure size 720x432 with 1 Axes>"
      ]
     },
     "metadata": {},
     "output_type": "display_data"
    }
   ],
   "source": [
    "test_data['sentiment'] = test_data['fully_cleaned_tweet'].apply(lambda x: TextBlob(x).sentiment.polarity)  #-1 to 1\n",
    "\n",
    "sns.set(rc={\"figure.figsize\": (10, 6)})\n",
    "\n",
    "sns.distplot(test_data['sentiment'], norm_hist=True)"
   ]
  },
  {
   "cell_type": "markdown",
   "metadata": {},
   "source": [
    "####  In above plot we can see maximum tweets are neutral an a little biased towards positive, very less -ve we hav"
   ]
  },
  {
   "cell_type": "markdown",
   "metadata": {},
   "source": [
    "## Above all classification is telling us  +ve, -ve and neutral behaviour of the people.\n",
    "### Now we need to identify the emotions like happy, sad, anger \n",
    "### For this classification we need some training data to train our model. For this we are going to take a corpus from NRC Word-Emotion Association Lexicon\n",
    "[NRC Word-Emotion Association Lexicon](https://saifmohammad.com/WebPages/NRC-Emotion-Lexicon.htm)\n",
    "\n",
    "### And link for data is\n",
    "[Emotions tagged tweets lexicon](https://saifmohammad.com/WebDocs/Jan9-2012-tweets-clean.txt.zip)"
   ]
  },
  {
   "cell_type": "code",
   "execution_count": 8,
   "metadata": {},
   "outputs": [
    {
     "data": {
      "text/html": [
       "<div>\n",
       "<style scoped>\n",
       "    .dataframe tbody tr th:only-of-type {\n",
       "        vertical-align: middle;\n",
       "    }\n",
       "\n",
       "    .dataframe tbody tr th {\n",
       "        vertical-align: top;\n",
       "    }\n",
       "\n",
       "    .dataframe thead th {\n",
       "        text-align: right;\n",
       "    }\n",
       "</style>\n",
       "<table border=\"1\" class=\"dataframe\">\n",
       "  <thead>\n",
       "    <tr style=\"text-align: right;\">\n",
       "      <th></th>\n",
       "      <th>tweet</th>\n",
       "      <th>emotion</th>\n",
       "    </tr>\n",
       "  </thead>\n",
       "  <tbody>\n",
       "    <tr>\n",
       "      <th>0</th>\n",
       "      <td>Thinks that @melbahughes had a great 50th birthday party :)</td>\n",
       "      <td>surprise</td>\n",
       "    </tr>\n",
       "    <tr>\n",
       "      <th>1</th>\n",
       "      <td>Como una expresión tan simple, una sola oración, puede llegara dañarte tanto.</td>\n",
       "      <td>sadness</td>\n",
       "    </tr>\n",
       "    <tr>\n",
       "      <th>2</th>\n",
       "      <td>the moment when you get another follower and you cheer.</td>\n",
       "      <td>joy</td>\n",
       "    </tr>\n",
       "    <tr>\n",
       "      <th>3</th>\n",
       "      <td>Be the greatest dancer of your life! practice daily positive habits.  #fun #freedom #habits</td>\n",
       "      <td>joy</td>\n",
       "    </tr>\n",
       "    <tr>\n",
       "      <th>4</th>\n",
       "      <td>eww.. my moms starting to make her annual rum cake for the whole ramdyal/ally family. fml fml fml the smelll.......</td>\n",
       "      <td>disgust</td>\n",
       "    </tr>\n",
       "  </tbody>\n",
       "</table>\n",
       "</div>"
      ],
      "text/plain": [
       "                                                                                                                  tweet  \\\n",
       "0  Thinks that @melbahughes had a great 50th birthday party :)                                                            \n",
       "1  Como una expresión tan simple, una sola oración, puede llegara dañarte tanto.                                          \n",
       "2  the moment when you get another follower and you cheer.                                                                \n",
       "3  Be the greatest dancer of your life! practice daily positive habits.  #fun #freedom #habits                            \n",
       "4  eww.. my moms starting to make her annual rum cake for the whole ramdyal/ally family. fml fml fml the smelll.......    \n",
       "\n",
       "     emotion  \n",
       "0   surprise  \n",
       "1   sadness   \n",
       "2   joy       \n",
       "3   joy       \n",
       "4   disgust   "
      ]
     },
     "execution_count": 8,
     "metadata": {},
     "output_type": "execute_result"
    }
   ],
   "source": [
    "# First of all, let's import the training data\n",
    "\n",
    "cl = [\"id\", \"tweet\", \"emotion\"]\n",
    "df =pd.read_csv(\"Jan9-2012-tweets-clean.txt\", delimiter=\"\\t\", encoding=\"utf8\", error_bad_lines=False, header=None, names = cl)\n",
    "df[\"emotion\"] = df.emotion.apply(lambda x: str(x).replace(\"::\",\"\"))\n",
    "df = df.drop_duplicates(subset='tweet', keep=\"last\")\n",
    "df = df.drop(\"id\", axis=1)\n",
    "df.head()"
   ]
  },
  {
   "cell_type": "markdown",
   "metadata": {},
   "source": [
    "## Feature Inspection \n",
    "#### In order to get some feeling for the data we are going to work with, we will start out with a quick exploratory phase. We will have a look at a couple of things. For example how many documents (I will define one entry in the text column as a document) we have per writer. Look at the lengths of the documents. Look at some (in)frequent words that are used.\n",
    "\n",
    "#### This exploratory phase is always a good thing to start with to get an idea of the data and it will probably help you out making decisions later on in the process of any data science problem you have and in particular now for text classification."
   ]
  },
  {
   "cell_type": "code",
   "execution_count": 9,
   "metadata": {},
   "outputs": [
    {
     "data": {
      "text/plain": [
       " joy           8139\n",
       " sadness       3829\n",
       " surprise      3802\n",
       " fear          2503\n",
       " anger         1527\n",
       " disgust       760 \n",
       "ribbon :)      1   \n",
       "out of life    1   \n",
       "Run!           1   \n",
       "nan            1   \n",
       "Name: emotion, dtype: int64"
      ]
     },
     "execution_count": 9,
     "metadata": {},
     "output_type": "execute_result"
    }
   ],
   "source": [
    "df.emotion.value_counts()"
   ]
  },
  {
   "cell_type": "code",
   "execution_count": 10,
   "metadata": {},
   "outputs": [],
   "source": [
    "# drop all the invalid emotions\n",
    "df[\"emotion\"] = df[\"emotion\"].apply(lambda x: x.strip())\n",
    "i = df[(df.emotion == 'out of life')].index\n",
    "df = df.drop(i)\n",
    "i = df[(df.emotion == 'ribbon :)')].index\n",
    "df = df.drop(i)\n",
    "i = df[(df.emotion == 'nan')].index\n",
    "df = df.drop(i)\n",
    "i = df[(df.emotion == 'Run!')].index\n",
    "df = df.drop(i)"
   ]
  },
  {
   "cell_type": "code",
   "execution_count": 11,
   "metadata": {},
   "outputs": [
    {
     "data": {
      "text/html": [
       "<div>\n",
       "<style scoped>\n",
       "    .dataframe tbody tr th:only-of-type {\n",
       "        vertical-align: middle;\n",
       "    }\n",
       "\n",
       "    .dataframe tbody tr th {\n",
       "        vertical-align: top;\n",
       "    }\n",
       "\n",
       "    .dataframe thead th {\n",
       "        text-align: right;\n",
       "    }\n",
       "</style>\n",
       "<table border=\"1\" class=\"dataframe\">\n",
       "  <thead>\n",
       "    <tr style=\"text-align: right;\">\n",
       "      <th></th>\n",
       "      <th>tweet</th>\n",
       "      <th>emotion</th>\n",
       "      <th>cleaned_tweet</th>\n",
       "      <th>fully_cleaned_tweet</th>\n",
       "      <th>text</th>\n",
       "    </tr>\n",
       "  </thead>\n",
       "  <tbody>\n",
       "    <tr>\n",
       "      <th>0</th>\n",
       "      <td>Thinks that @melbahughes had a great 50th birthday party :)</td>\n",
       "      <td>surprise</td>\n",
       "      <td>thinks that  melbahughes had  great 50th birthday party</td>\n",
       "      <td>thinks that melbahughes had great 50th birthday party</td>\n",
       "      <td>thinks that melbahughes had great 50th birthday party</td>\n",
       "    </tr>\n",
       "    <tr>\n",
       "      <th>1</th>\n",
       "      <td>Como una expresión tan simple, una sola oración, puede llegara dañarte tanto.</td>\n",
       "      <td>sadness</td>\n",
       "      <td>como una expresi  tan simple una sola oraci  puede llegara  arte tanto</td>\n",
       "      <td>como una expresi tan simple una sola oraci puede llegara arte tanto</td>\n",
       "      <td>como una expresi tan simple una sola oraci puede llegara arte tanto</td>\n",
       "    </tr>\n",
       "    <tr>\n",
       "      <th>2</th>\n",
       "      <td>the moment when you get another follower and you cheer.</td>\n",
       "      <td>joy</td>\n",
       "      <td>the moment when you get another follower and you cheer</td>\n",
       "      <td>the moment when you get another follower and you cheer</td>\n",
       "      <td>the moment when you get another follower and you cheer</td>\n",
       "    </tr>\n",
       "    <tr>\n",
       "      <th>3</th>\n",
       "      <td>Be the greatest dancer of your life! practice daily positive habits.  #fun #freedom #habits</td>\n",
       "      <td>joy</td>\n",
       "      <td>the greatest dancer  your life  practice daily positive habits   fun  freedom  habits</td>\n",
       "      <td>the greatest dancer your life practice daily positive habits fun freedom habits</td>\n",
       "      <td>the greatest dancer your life practice daily positive habits fun freedom habits</td>\n",
       "    </tr>\n",
       "    <tr>\n",
       "      <th>4</th>\n",
       "      <td>eww.. my moms starting to make her annual rum cake for the whole ramdyal/ally family. fml fml fml the smelll.......</td>\n",
       "      <td>disgust</td>\n",
       "      <td>eww  moms starting  make her annual rum cake for the whole ramdyalally family fml fml fml the smelll</td>\n",
       "      <td>eww moms starting make her annual rum cake for the whole ramdyalally family fml fml fml the smelll</td>\n",
       "      <td>eww moms starting make her annual rum cake for the whole ramdyalally family fml fml fml the smelll</td>\n",
       "    </tr>\n",
       "  </tbody>\n",
       "</table>\n",
       "</div>"
      ],
      "text/plain": [
       "                                                                                                                  tweet  \\\n",
       "0  Thinks that @melbahughes had a great 50th birthday party :)                                                            \n",
       "1  Como una expresión tan simple, una sola oración, puede llegara dañarte tanto.                                          \n",
       "2  the moment when you get another follower and you cheer.                                                                \n",
       "3  Be the greatest dancer of your life! practice daily positive habits.  #fun #freedom #habits                            \n",
       "4  eww.. my moms starting to make her annual rum cake for the whole ramdyal/ally family. fml fml fml the smelll.......    \n",
       "\n",
       "    emotion  \\\n",
       "0  surprise   \n",
       "1  sadness    \n",
       "2  joy        \n",
       "3  joy        \n",
       "4  disgust    \n",
       "\n",
       "                                                                                           cleaned_tweet  \\\n",
       "0  thinks that  melbahughes had  great 50th birthday party                                                 \n",
       "1  como una expresi  tan simple una sola oraci  puede llegara  arte tanto                                  \n",
       "2  the moment when you get another follower and you cheer                                                  \n",
       "3   the greatest dancer  your life  practice daily positive habits   fun  freedom  habits                  \n",
       "4  eww  moms starting  make her annual rum cake for the whole ramdyalally family fml fml fml the smelll    \n",
       "\n",
       "                                                                                  fully_cleaned_tweet  \\\n",
       "0  thinks that melbahughes had great 50th birthday party                                                \n",
       "1  como una expresi tan simple una sola oraci puede llegara arte tanto                                  \n",
       "2  the moment when you get another follower and you cheer                                               \n",
       "3  the greatest dancer your life practice daily positive habits fun freedom habits                      \n",
       "4  eww moms starting make her annual rum cake for the whole ramdyalally family fml fml fml the smelll   \n",
       "\n",
       "                                                                                                 text  \n",
       "0  thinks that melbahughes had great 50th birthday party                                               \n",
       "1  como una expresi tan simple una sola oraci puede llegara arte tanto                                 \n",
       "2  the moment when you get another follower and you cheer                                              \n",
       "3  the greatest dancer your life practice daily positive habits fun freedom habits                     \n",
       "4  eww moms starting make her annual rum cake for the whole ramdyalally family fml fml fml the smelll  "
      ]
     },
     "execution_count": 11,
     "metadata": {},
     "output_type": "execute_result"
    }
   ],
   "source": [
    "# clean the data\n",
    "df['cleaned_tweet'] = df['tweet'].replace(r'\\'|\\\"|\\,|\\.|\\?|\\+|\\-|\\/|\\=|\\(|\\)|\\n|\"', '', regex=True)\n",
    "df['cleaned_tweet'] = df['cleaned_tweet'].replace(\"  \", \" \")\n",
    "df = cleantext(df)\n",
    "df[\"text\"] = df[\"fully_cleaned_tweet\"]\n",
    "df.head()"
   ]
  },
  {
   "cell_type": "code",
   "execution_count": 12,
   "metadata": {},
   "outputs": [
    {
     "data": {
      "image/png": "[encoded data removed]",
      "text/plain": [
       "<Figure size 576x432 with 1 Axes>"
      ]
     },
     "metadata": {},
     "output_type": "display_data"
    }
   ],
   "source": [
    "fig, ax = plt.subplots(1,1,figsize=(8,6))\n",
    "\n",
    "author_vc = df.emotion.value_counts()\n",
    "\n",
    "ax.bar(range(6), author_vc)\n",
    "ax.set_xticks(range(6))\n",
    "ax.set_xticklabels(author_vc.index, fontsize=9)\n",
    "\n",
    "for rect, c, value in zip(ax.patches, ['b', 'r', 'g'], author_vc.values):\n",
    "    rect.set_color(c)\n",
    "    height = rect.get_height()\n",
    "    width = rect.get_width()\n",
    "    x_loc = rect.get_x()\n",
    "    ax.text(x_loc + width/2, 0.9*height, value, ha='center', va='center', fontsize=10, color='white')"
   ]
  },
  {
   "cell_type": "markdown",
   "metadata": {},
   "source": [
    "### Inspect text variable"
   ]
  },
  {
   "cell_type": "code",
   "execution_count": 14,
   "metadata": {},
   "outputs": [
    {
     "name": "stdout",
     "output_type": "stream",
     "text": [
      "The average number of words in a document is: 11.540369649805447.\n",
      "The minimum number of words in a document is: 2.\n",
      "The maximum number of words in a document is: 27.\n"
     ]
    }
   ],
   "source": [
    "document_lengths = np.array(list(map(len, df.text.str.split(' '))))\n",
    "\n",
    "print(\"The average number of words in a document is: {}.\".format(np.mean(document_lengths)))\n",
    "print(\"The minimum number of words in a document is: {}.\".format(min(document_lengths)))\n",
    "print(\"The maximum number of words in a document is: {}.\".format(max(document_lengths)))"
   ]
  },
  {
   "cell_type": "markdown",
   "metadata": {},
   "source": [
    "#### Note how there's actually a document with just two words. That is going to be interesting to classify. Let's dig in a little bit deeper and see the distribution of the number of words in a document."
   ]
  },
  {
   "cell_type": "code",
   "execution_count": 15,
   "metadata": {},
   "outputs": [
    {
     "name": "stderr",
     "output_type": "stream",
     "text": [
      "C:\\Users\\Sawan\\Anaconda3\\lib\\site-packages\\scipy\\stats\\stats.py:1713: FutureWarning: Using a non-tuple sequence for multidimensional indexing is deprecated; use `arr[tuple(seq)]` instead of `arr[seq]`. In the future this will be interpreted as an array index, `arr[np.array(seq)]`, which will result either in an error or a different result.\n",
      "  return np.add.reduce(sorted[indexer] * weights, axis=axis) / sumval\n"
     ]
    },
    {
     "data": {
      "image/png": "[encoded data removed]",
      "text/plain": [
       "<Figure size 1080x432 with 1 Axes>"
      ]
     },
     "metadata": {},
     "output_type": "display_data"
    }
   ],
   "source": [
    "fig, ax = plt.subplots(figsize=(15,6))\n",
    "\n",
    "ax.set_title(\"Distribution of number of words\", fontsize=16)\n",
    "ax.set_xlabel(\"Number of words\")\n",
    "sns.distplot(document_lengths, bins=50, ax=ax);"
   ]
  },
  {
   "cell_type": "markdown",
   "metadata": {},
   "source": [
    "## Feature creation \n",
    "### The usual approach in natural language processing, is to first kind of cleanse the text. We have to make sure our model can understand similarities and understand when two different words mean similar things. You can't just input the raw text into a model and expect it to understand everything. Therefore, I summarized the most common steps to take in order to achieve this cleansing."
   ]
  },
  {
   "cell_type": "code",
   "execution_count": 16,
   "metadata": {},
   "outputs": [],
   "source": [
    "# A little codeblock specifically meant for word2vec\n",
    "\n",
    "def get_good_tokens(sentence):\n",
    "    replaced_punctation = list(map(lambda token: re.sub('[^0-9A-Za-z!?]+', '', token), sentence))\n",
    "    removed_punctation = list(filter(lambda token: token, replaced_punctation))\n",
    "    return removed_punctation\n",
    "\n",
    "def w2v_preprocessing(df):\n",
    "    \"\"\" All the preprocessing steps for word2vec are done in this function.\n",
    "    All mutations are done on the dataframe itself. So this function returns\n",
    "    nothing.\n",
    "    \"\"\"\n",
    "    df['text'] = df.text.str.lower()\n",
    "    df['document_sentences'] = df.text.str.split('.')  # split texts into individual sentences\n",
    "    df['tokenized_sentences'] = list(map(lambda sentences:\n",
    "                                         list(map(nltk.word_tokenize, sentences)),\n",
    "                                         df.document_sentences))  # tokenize sentences\n",
    "    df['tokenized_sentences'] = list(map(lambda sentences:\n",
    "                                         list(map(get_good_tokens, sentences)),\n",
    "                                         df.tokenized_sentences))  # remove unwanted characters\n",
    "    df['tokenized_sentences'] = list(map(lambda sentences:\n",
    "                                         list(filter(lambda lst: lst, sentences)),\n",
    "                                         df.tokenized_sentences))  # remove empty lists\n",
    "\n",
    "w2v_preprocessing(df)"
   ]
  },
  {
   "cell_type": "markdown",
   "metadata": {},
   "source": [
    "#### So we're actually already finished the word2vec preprocessing! All the following steps are preprocessing steps for LDA."
   ]
  },
  {
   "cell_type": "code",
   "execution_count": 17,
   "metadata": {},
   "outputs": [],
   "source": [
    "def lda_get_good_tokens(df):\n",
    "    df['text'] = df.text.str.lower()\n",
    "    df['tokenized_text'] = list(map(nltk.word_tokenize, df.text))\n",
    "    df['tokenized_text'] = list(map(get_good_tokens, df.tokenized_text))\n",
    "\n",
    "lda_get_good_tokens(df)"
   ]
  },
  {
   "cell_type": "markdown",
   "metadata": {},
   "source": [
    "#### Let's view at the top word frequencies now and get an idea of the words that are used mostly."
   ]
  },
  {
   "cell_type": "code",
   "execution_count": 18,
   "metadata": {},
   "outputs": [],
   "source": [
    "tokenized_only_dict = Counter(np.concatenate(df.tokenized_text.values))\n",
    "\n",
    "tokenized_only_df = pd.DataFrame.from_dict(tokenized_only_dict, orient='index')\n",
    "tokenized_only_df.rename(columns={0: 'count'}, inplace=True)"
   ]
  },
  {
   "cell_type": "code",
   "execution_count": 19,
   "metadata": {
    "scrolled": true
   },
   "outputs": [
    {
     "data": {
      "text/plain": [
       "Text(0.5,1,'Word Frequencies')"
      ]
     },
     "execution_count": 19,
     "metadata": {},
     "output_type": "execute_result"
    },
    {
     "data": {
      "image/png": "[encoded data removed]",
      "text/plain": [
       "<Figure size 1440x360 with 1 Axes>"
      ]
     },
     "metadata": {},
     "output_type": "display_data"
    }
   ],
   "source": [
    "tokenized_only_df.sort_values('count', ascending=False, inplace=True)\n",
    "\n",
    "# I made a function out of this since I will use it again later on \n",
    "def word_frequency_barplot(df, nr_top_words=50):\n",
    "    \"\"\" df should have a column named count.\n",
    "    \"\"\"\n",
    "    fig, ax = plt.subplots(1,1,figsize=(20,5))\n",
    "\n",
    "    sns.barplot(list(range(nr_top_words)), df['count'].values[:nr_top_words], palette='hls', ax=ax)\n",
    "\n",
    "    ax.set_xticks(list(range(nr_top_words)))\n",
    "    ax.set_xticklabels(df.index[:nr_top_words], fontsize=14, rotation=90)\n",
    "    return ax\n",
    "    \n",
    "ax = word_frequency_barplot(tokenized_only_df)\n",
    "ax.set_title(\"Word Frequencies\", fontsize=16)"
   ]
  },
  {
   "cell_type": "markdown",
   "metadata": {},
   "source": [
    "#### It was to be expected that simple words like 'the', 'and' and 'you' are words that are used often. Unless you think that one author would preferably use on of these words more often than other authors, it's safe to remove these words. Like we stated in point 2 above, we will remove frequent words and stopwords since they probably bring little meaning and maybe even create noise when we want to classify later on.\n",
    "\n",
    "### Remove words that mean little\n",
    "#### As stated above, words the have little meaning to the model are words we'd like to remove. Moreover, these words can create noise which can make it harder to classify the texts later on."
   ]
  },
  {
   "cell_type": "code",
   "execution_count": 20,
   "metadata": {},
   "outputs": [],
   "source": [
    "our_special_word = 'qwerty'\n",
    "def remove_stopwords(df):\n",
    "    \"\"\" Removes stopwords based on a known set of stopwords\n",
    "    available in the nltk package. In addition, we include our\n",
    "    made up word in here.\n",
    "    \"\"\"\n",
    "    # Luckily nltk already has a set of stopwords that we can remove from the texts.\n",
    "    stopwords = nltk.corpus.stopwords.words('english')\n",
    "    # we'll add our own special word in here 'qwerty'\n",
    "    stopwords.append(our_special_word)\n",
    "\n",
    "    df['stopwords_removed'] = list(map(lambda doc:\n",
    "                                       [word for word in doc if word not in stopwords],\n",
    "                                       df['tokenized_text']))\n",
    "\n",
    "remove_stopwords(df)"
   ]
  },
  {
   "cell_type": "markdown",
   "metadata": {},
   "source": [
    "### Stemming\n",
    "#### For the stemming part, we'll start with lemmatization, this will stem words like leaves to leaf. Afterwards, we'll apply the porterstemmer which in turn will complete the stemming by converting words like running to run."
   ]
  },
  {
   "cell_type": "code",
   "execution_count": 21,
   "metadata": {},
   "outputs": [],
   "source": [
    "def stem_words(df):\n",
    "    lemm = nltk.stem.WordNetLemmatizer()\n",
    "    df['lemmatized_text'] = list(map(lambda sentence:\n",
    "                                     list(map(lemm.lemmatize, sentence)),\n",
    "                                     df.stopwords_removed))\n",
    "\n",
    "    p_stemmer = nltk.stem.porter.PorterStemmer()\n",
    "    df['stemmed_text'] = list(map(lambda sentence:\n",
    "                                  list(map(p_stemmer.stem, sentence)),\n",
    "                                  df.lemmatized_text))\n",
    "\n",
    "stem_words(df)"
   ]
  },
  {
   "cell_type": "markdown",
   "metadata": {},
   "source": [
    "### Vectorize words\n",
    "#### Here we create a dictionary for the model. Since a computer can't reallly understand what a word means, we need to transform it into some number the model will be able to work with. We use gensim.corpora.Dictionary for this."
   ]
  },
  {
   "cell_type": "code",
   "execution_count": 22,
   "metadata": {},
   "outputs": [
    {
     "name": "stdout",
     "output_type": "stream",
     "text": [
      "Found 25168 words.\n"
     ]
    }
   ],
   "source": [
    "dictionary = Dictionary(documents=df.stemmed_text.values)\n",
    "\n",
    "print(\"Found {} words.\".format(len(dictionary.values())))"
   ]
  },
  {
   "cell_type": "code",
   "execution_count": 23,
   "metadata": {},
   "outputs": [
    {
     "name": "stdout",
     "output_type": "stream",
     "text": [
      "Left with 5757 words.\n"
     ]
    }
   ],
   "source": [
    "dictionary.filter_extremes(no_above=0.8, no_below=3)\n",
    "\n",
    "dictionary.compactify()  # Reindexes the remaining words after filtering\n",
    "print(\"Left with {} words.\".format(len(dictionary.values())))"
   ]
  },
  {
   "cell_type": "markdown",
   "metadata": {},
   "source": [
    "#### I decided to remove only the top 20% of words since we're dealing with a relatively small dataset here. Also words that occur less than 3 times are removed."
   ]
  },
  {
   "cell_type": "code",
   "execution_count": 24,
   "metadata": {},
   "outputs": [],
   "source": [
    "#Make a BOW for every document\n",
    "def document_to_bow(df):\n",
    "    df['bow'] = list(map(lambda doc: dictionary.doc2bow(doc), df.stemmed_text))\n",
    "    \n",
    "document_to_bow(df)\n",
    "\n",
    "# we make a function such that later on when we make the submission, we don't need to write duplicate code\n",
    "def lda_preprocessing(df):\n",
    "    \"\"\" All the preprocessing steps for LDA are combined in this function.\n",
    "    All mutations are done on the dataframe itself. So this function returns\n",
    "    nothing.\n",
    "    \"\"\"\n",
    "    lda_get_good_tokens(df)\n",
    "    remove_stopwords(df)\n",
    "    stem_words(df)\n",
    "    document_to_bow(df)\n"
   ]
  },
  {
   "cell_type": "markdown",
   "metadata": {},
   "source": [
    "### Visualize the cleansed words frequencies\n",
    "#### Excellent! We cleansed our data and are ready to continue with LDA and Word2Vec, but before we do that, I would like to visualize the cleansed results and see what we created so far."
   ]
  },
  {
   "cell_type": "code",
   "execution_count": null,
   "metadata": {},
   "outputs": [],
   "source": [
    "cleansed_words_df = pd.DataFrame.from_dict(dictionary.token2id, orient='index')\n",
    "cleansed_words_df.rename(columns={0: 'id'}, inplace=True)\n",
    "\n",
    "cleansed_words_df['count'] = list(map(lambda id_: dictionary.dfs.get(id_), cleansed_words_df.id))\n",
    "del cleansed_words_df['id']"
   ]
  },
  {
   "cell_type": "code",
   "execution_count": 25,
   "metadata": {},
   "outputs": [
    {
     "data": {
      "image/png": "[encoded data removed]",
      "text/plain": [
       "<Figure size 1440x360 with 1 Axes>"
      ]
     },
     "metadata": {},
     "output_type": "display_data"
    }
   ],
   "source": [
    "cleansed_words_df.sort_values('count', ascending=False, inplace=True)\n",
    "ax = word_frequency_barplot(cleansed_words_df)\n",
    "ax.set_title(\"Document Frequencies (Number of documents a word appears in)\", fontsize=16);"
   ]
  },
  {
   "cell_type": "code",
   "execution_count": 27,
   "metadata": {},
   "outputs": [
    {
     "data": {
      "text/html": [
       "<div>\n",
       "<style scoped>\n",
       "    .dataframe tbody tr th:only-of-type {\n",
       "        vertical-align: middle;\n",
       "    }\n",
       "\n",
       "    .dataframe tbody tr th {\n",
       "        vertical-align: top;\n",
       "    }\n",
       "\n",
       "    .dataframe thead th {\n",
       "        text-align: right;\n",
       "    }\n",
       "</style>\n",
       "<table border=\"1\" class=\"dataframe\">\n",
       "  <thead>\n",
       "    <tr style=\"text-align: right;\">\n",
       "      <th></th>\n",
       "      <th>tweet</th>\n",
       "      <th>emotion</th>\n",
       "      <th>cleaned_tweet</th>\n",
       "      <th>fully_cleaned_tweet</th>\n",
       "      <th>text</th>\n",
       "      <th>document_sentences</th>\n",
       "      <th>tokenized_sentences</th>\n",
       "      <th>tokenized_text</th>\n",
       "      <th>stopwords_removed</th>\n",
       "      <th>lemmatized_text</th>\n",
       "      <th>stemmed_text</th>\n",
       "      <th>bow</th>\n",
       "    </tr>\n",
       "  </thead>\n",
       "  <tbody>\n",
       "    <tr>\n",
       "      <th>0</th>\n",
       "      <td>Thinks that @melbahughes had a great 50th birthday party :)</td>\n",
       "      <td>surprise</td>\n",
       "      <td>thinks that  melbahughes had  great 50th birthday party</td>\n",
       "      <td>thinks that melbahughes had great 50th birthday party</td>\n",
       "      <td>thinks that melbahughes had great 50th birthday party</td>\n",
       "      <td>[thinks that melbahughes had great 50th birthday party]</td>\n",
       "      <td>[[thinks, that, melbahughes, had, great, 50th, birthday, party]]</td>\n",
       "      <td>[thinks, that, melbahughes, had, great, 50th, birthday, party]</td>\n",
       "      <td>[thinks, melbahughes, great, 50th, birthday, party]</td>\n",
       "      <td>[think, melbahughes, great, 50th, birthday, party]</td>\n",
       "      <td>[think, melbahugh, great, 50th, birthday, parti]</td>\n",
       "      <td>[(0, 1), (1, 1), (2, 1), (3, 1), (4, 1)]</td>\n",
       "    </tr>\n",
       "    <tr>\n",
       "      <th>1</th>\n",
       "      <td>Como una expresión tan simple, una sola oración, puede llegara dañarte tanto.</td>\n",
       "      <td>sadness</td>\n",
       "      <td>como una expresi  tan simple una sola oraci  puede llegara  arte tanto</td>\n",
       "      <td>como una expresi tan simple una sola oraci puede llegara arte tanto</td>\n",
       "      <td>como una expresi tan simple una sola oraci puede llegara arte tanto</td>\n",
       "      <td>[como una expresi tan simple una sola oraci puede llegara arte tanto]</td>\n",
       "      <td>[[como, una, expresi, tan, simple, una, sola, oraci, puede, llegara, arte, tanto]]</td>\n",
       "      <td>[como, una, expresi, tan, simple, una, sola, oraci, puede, llegara, arte, tanto]</td>\n",
       "      <td>[como, una, expresi, tan, simple, una, sola, oraci, puede, llegara, arte, tanto]</td>\n",
       "      <td>[como, una, expresi, tan, simple, una, sola, oraci, puede, llegara, arte, tanto]</td>\n",
       "      <td>[como, una, expresi, tan, simpl, una, sola, oraci, pued, llegara, art, tanto]</td>\n",
       "      <td>[(5, 1), (6, 1), (7, 1), (8, 1), (9, 1), (10, 1), (11, 2)]</td>\n",
       "    </tr>\n",
       "  </tbody>\n",
       "</table>\n",
       "</div>"
      ],
      "text/plain": [
       "                                                                            tweet  \\\n",
       "0  Thinks that @melbahughes had a great 50th birthday party :)                      \n",
       "1  Como una expresión tan simple, una sola oración, puede llegara dañarte tanto.    \n",
       "\n",
       "    emotion  \\\n",
       "0  surprise   \n",
       "1  sadness    \n",
       "\n",
       "                                                             cleaned_tweet  \\\n",
       "0  thinks that  melbahughes had  great 50th birthday party                   \n",
       "1  como una expresi  tan simple una sola oraci  puede llegara  arte tanto    \n",
       "\n",
       "                                                   fully_cleaned_tweet  \\\n",
       "0  thinks that melbahughes had great 50th birthday party                 \n",
       "1  como una expresi tan simple una sola oraci puede llegara arte tanto   \n",
       "\n",
       "                                                                  text  \\\n",
       "0  thinks that melbahughes had great 50th birthday party                 \n",
       "1  como una expresi tan simple una sola oraci puede llegara arte tanto   \n",
       "\n",
       "                                                      document_sentences  \\\n",
       "0  [thinks that melbahughes had great 50th birthday party]                 \n",
       "1  [como una expresi tan simple una sola oraci puede llegara arte tanto]   \n",
       "\n",
       "                                                                  tokenized_sentences  \\\n",
       "0  [[thinks, that, melbahughes, had, great, 50th, birthday, party]]                     \n",
       "1  [[como, una, expresi, tan, simple, una, sola, oraci, puede, llegara, arte, tanto]]   \n",
       "\n",
       "                                                                     tokenized_text  \\\n",
       "0  [thinks, that, melbahughes, had, great, 50th, birthday, party]                     \n",
       "1  [como, una, expresi, tan, simple, una, sola, oraci, puede, llegara, arte, tanto]   \n",
       "\n",
       "                                                                  stopwords_removed  \\\n",
       "0  [thinks, melbahughes, great, 50th, birthday, party]                                \n",
       "1  [como, una, expresi, tan, simple, una, sola, oraci, puede, llegara, arte, tanto]   \n",
       "\n",
       "                                                                    lemmatized_text  \\\n",
       "0  [think, melbahughes, great, 50th, birthday, party]                                 \n",
       "1  [como, una, expresi, tan, simple, una, sola, oraci, puede, llegara, arte, tanto]   \n",
       "\n",
       "                                                                    stemmed_text  \\\n",
       "0  [think, melbahugh, great, 50th, birthday, parti]                                \n",
       "1  [como, una, expresi, tan, simpl, una, sola, oraci, pued, llegara, art, tanto]   \n",
       "\n",
       "                                                          bow  \n",
       "0  [(0, 1), (1, 1), (2, 1), (3, 1), (4, 1)]                    \n",
       "1  [(5, 1), (6, 1), (7, 1), (8, 1), (9, 1), (10, 1), (11, 2)]  "
      ]
     },
     "execution_count": 27,
     "metadata": {},
     "output_type": "execute_result"
    }
   ],
   "source": [
    "df.head(2)"
   ]
  },
  {
   "cell_type": "markdown",
   "metadata": {},
   "source": [
    "## Model Training \n",
    "### LDA\n",
    "#### Latent Dirichlet Allocation (LDA) is generative approach in classifying texts. It is a three level hierarchical Bayesian model where it creates probabilities on word level, on document level and on corpus level (corpus means all documents). The objective function looks pretty complex, but it's just a way of describing the probability of a corpus:\n",
    "\n",
    "### LDA training"
   ]
  },
  {
   "cell_type": "code",
   "execution_count": 28,
   "metadata": {},
   "outputs": [],
   "source": [
    "corpus = df.bow"
   ]
  },
  {
   "cell_type": "code",
   "execution_count": 29,
   "metadata": {},
   "outputs": [
    {
     "name": "stderr",
     "output_type": "stream",
     "text": [
      "C:\\Users\\Sawan\\Anaconda3\\lib\\site-packages\\gensim\\models\\ldamodel.py:1023: RuntimeWarning: divide by zero encountered in log\n",
      "  diff = np.log(self.expElogbeta)\n"
     ]
    },
    {
     "name": "stdout",
     "output_type": "stream",
     "text": [
      "Wall time: 35.4 s\n"
     ]
    }
   ],
   "source": [
    "%%time\n",
    "num_topics = 150\n",
    "#A multicore approach to decrease training time\n",
    "LDAmodel = LdaMulticore(corpus=corpus,\n",
    "                        id2word=dictionary,\n",
    "                        num_topics=num_topics,\n",
    "                        workers=4,\n",
    "                        chunksize=4000,\n",
    "                        passes=7,\n",
    "                        alpha='asymmetric')"
   ]
  },
  {
   "cell_type": "markdown",
   "metadata": {},
   "source": [
    "### LDA topic inspection\n",
    "#### Let's first create the feature vectors."
   ]
  },
  {
   "cell_type": "code",
   "execution_count": 30,
   "metadata": {},
   "outputs": [],
   "source": [
    "def document_to_lda_features(lda_model, document):\n",
    "    \"\"\" Transforms a bag of words document to features.\n",
    "    It returns the proportion of how much each topic was\n",
    "    present in the document.\n",
    "    \"\"\"\n",
    "    topic_importances = LDAmodel.get_document_topics(document, minimum_probability=0)\n",
    "    topic_importances = np.array(topic_importances)\n",
    "    return topic_importances[:,1]\n",
    "\n",
    "df['lda_features'] = list(map(lambda doc:\n",
    "                                      document_to_lda_features(LDAmodel, doc),\n",
    "                                      df.bow))"
   ]
  },
  {
   "cell_type": "code",
   "execution_count": 31,
   "metadata": {},
   "outputs": [],
   "source": [
    "Joy_topic_distribution = df.loc[df.emotion == 'joy', 'lda_features'].mean()\n",
    "Surptise_topic_distribution = df.loc[df.emotion == 'surprise', 'lda_features'].mean()\n",
    "Disgust_topic_distribution = df.loc[df.emotion == 'disgust', 'lda_features'].mean()\n",
    "Sadness_topic_distribution = df.loc[df.emotion == 'sadness', 'lda_features'].mean()\n",
    "Anger_topic_distribution = df.loc[df.emotion == 'anger', 'lda_features'].mean()\n",
    "Fear_topic_distribution = df.loc[df.emotion == 'fear', 'lda_features'].mean()"
   ]
  },
  {
   "cell_type": "code",
   "execution_count": 32,
   "metadata": {},
   "outputs": [],
   "source": [
    "def get_topic_top_words(lda_model, topic_id, nr_top_words=5):\n",
    "    \"\"\" Returns the top words for topic_id from lda_model.\n",
    "    \"\"\"\n",
    "    id_tuples = lda_model.get_topic_terms(topic_id, topn=nr_top_words)\n",
    "    word_ids = np.array(id_tuples)[:,0]\n",
    "    words = map(lambda id_: lda_model.id2word[id_], word_ids)\n",
    "    return words"
   ]
  },
  {
   "cell_type": "code",
   "execution_count": 33,
   "metadata": {},
   "outputs": [
    {
     "name": "stdout",
     "output_type": "stream",
     "text": [
      "Looking up top words from top topics from joy.\n",
      "For topic 70, the top words are: need, life, fun, xma, hear.\n",
      "For topic 85, the top words are: christma, tree, season, present, decor.\n",
      "For topic 101, the top words are: wait, anoth, cant, 7, yet.\n",
      "For topic 117, the top words are: hour, 4, shop, full, half.\n",
      "For topic 126, the top words are: final, sleep, 3, wake, hour.\n",
      "\n",
      "Looking up top words from top topics from surprise.\n",
      "For topic 72, the top words are: met, voor, een, van, maken.\n",
      "For topic 75, the top words are: weekend, haha, shirt, cousin, bo.\n",
      "For topic 128, the top words are: birthday, left, parti, fire, mother.\n",
      "For topic 135, the top words are: een, van, dat, song, heb.\n",
      "For topic 148, the top words are: surpris, 1, pa, mon, number.\n",
      "\n",
      "Looking up top words from top topics from disgust.\n",
      "For topic 3, the top words are: make, fuckin, tri, thing, good.\n",
      "For topic 78, the top words are: dad, girl, sinc, lord, 30.\n",
      "For topic 86, the top words are: hate, ill, school, phone, hard.\n",
      "For topic 131, the top words are: quot, radio, pure, tune, 100.\n",
      "For topic 134, the top words are: thing, hous, buy, like, smell.\n",
      "\n",
      "Looking up top words from top topics from sadness.\n",
      "For topic 49, the top words are: na, gon, wan, alon, share.\n",
      "For topic 57, the top words are: much, class, monday, isnt, hurt.\n",
      "For topic 70, the top words are: need, life, fun, xma, hear.\n",
      "For topic 86, the top words are: hate, ill, school, phone, hard.\n",
      "For topic 88, the top words are: miss, show, tear, anyth, complet.\n",
      "\n",
      "Looking up top words from top topics from anger.\n",
      "For topic 56, the top words are: fuck, hair, glad, cut, want.\n",
      "For topic 62, the top words are: stop, stupid, serious, dress, headach.\n",
      "For topic 70, the top words are: need, life, fun, xma, hear.\n",
      "For topic 86, the top words are: hate, ill, school, phone, hard.\n",
      "For topic 145, the top words are: live, find, sweet, youll, ignor.\n",
      "\n",
      "Looking up top words from top topics from fear.\n",
      "For topic 26, the top words are: tell, dude, other, celebr, semest.\n",
      "For topic 44, the top words are: le, afraid, yesterday, today, love.\n",
      "For topic 112, the top words are: dont, food, scare, pleas, eye.\n",
      "For topic 131, the top words are: quot, radio, pure, tune, 100.\n",
      "For topic 133, the top words are: fear, worth, effort, horribl, amen.\n",
      "\n"
     ]
    }
   ],
   "source": [
    "for author, distribution in zip(['joy', 'surprise', 'disgust','sadness', 'anger', 'fear'], [Joy_topic_distribution, Surptise_topic_distribution, Disgust_topic_distribution, Sadness_topic_distribution, Anger_topic_distribution, Fear_topic_distribution]):\n",
    "    print(\"Looking up top words from top topics from {}.\".format(author))\n",
    "    for x in sorted(np.argsort(distribution)[-5:]):\n",
    "        top_words = get_topic_top_words(LDAmodel, x)\n",
    "        print(\"For topic {}, the top words are: {}.\".format(x, \", \".join(top_words)))\n",
    "    print(\"\")"
   ]
  },
  {
   "cell_type": "markdown",
   "metadata": {},
   "source": [
    "### Word2Vec\n",
    "#### Word2vec is a deep learning method for creating vector representations of words. There are basically two word2vec approaches: continuous skip-gram modeling (SG) or continuous bag of words (CBOW). Both create word vector representations, but with different approaches.\n",
    "\n",
    "#### Word2Vec training"
   ]
  },
  {
   "cell_type": "code",
   "execution_count": 36,
   "metadata": {},
   "outputs": [],
   "source": [
    "sentences = []\n",
    "for sentence_group in df.tokenized_sentences:\n",
    "    sentences.extend(sentence_group)"
   ]
  },
  {
   "cell_type": "code",
   "execution_count": 37,
   "metadata": {},
   "outputs": [
    {
     "name": "stdout",
     "output_type": "stream",
     "text": [
      "Wall time: 3.41 s\n"
     ]
    }
   ],
   "source": [
    "%%time\n",
    "# Set values for various parameters\n",
    "num_features = 200    # Word vector dimensionality\n",
    "min_word_count = 3    # Minimum word count\n",
    "num_workers = 4       # Number of threads to run in parallel\n",
    "context = 6           # Context window size\n",
    "downsampling = 1e-3   # Downsample setting for frequent words\n",
    "\n",
    "# Initialize and train the model\n",
    "W2Vmodel = Word2Vec(sentences=sentences,\n",
    "                    sg=1,\n",
    "                    hs=0,\n",
    "                    workers=num_workers,\n",
    "                    size=num_features,\n",
    "                    min_count=min_word_count,\n",
    "                    window=context,\n",
    "                    sample=downsampling,\n",
    "                    negative=5,\n",
    "                    iter=6)"
   ]
  },
  {
   "cell_type": "markdown",
   "metadata": {},
   "source": [
    "### Word2Vec feature inspection\n",
    "#### Let's first create the word2vec features."
   ]
  },
  {
   "cell_type": "code",
   "execution_count": 38,
   "metadata": {},
   "outputs": [
    {
     "name": "stderr",
     "output_type": "stream",
     "text": [
      "C:\\Users\\Sawan\\Anaconda3\\lib\\site-packages\\ipykernel_launcher.py:16: DeprecationWarning: Call to deprecated `__getitem__` (Method will be removed in 4.0.0, use self.wv.__getitem__() instead).\n",
      "  app.launch_new_instance()\n"
     ]
    }
   ],
   "source": [
    "def get_w2v_features(w2v_model, sentence_group):\n",
    "    \"\"\" Transform a sentence_group (containing multiple lists\n",
    "    of words) into a feature vector. It averages out all the\n",
    "    word vectors of the sentence_group.\n",
    "    \"\"\"\n",
    "    words = np.concatenate(sentence_group)  # words in text\n",
    "    index2word_set = set(w2v_model.wv.vocab.keys())  # words known to model\n",
    "    \n",
    "    featureVec = np.zeros(w2v_model.vector_size, dtype=\"float32\")\n",
    "    \n",
    "    # Initialize a counter for number of words in a review\n",
    "    nwords = 0\n",
    "    # Loop over each word in the comment and, if it is in the model's vocabulary, add its feature vector to the total\n",
    "    for word in words:\n",
    "        if word in index2word_set: \n",
    "            featureVec = np.add(featureVec, w2v_model[word])\n",
    "            nwords += 1.\n",
    "\n",
    "    # Divide the result by the number of words to get the average\n",
    "    if nwords > 0:\n",
    "        featureVec = np.divide(featureVec, nwords)\n",
    "    return featureVec\n",
    "\n",
    "df['w2v_features'] = list(map(lambda sen_group:\n",
    "                                      get_w2v_features(W2Vmodel, sen_group),\n",
    "                                      df.tokenized_sentences))"
   ]
  },
  {
   "cell_type": "markdown",
   "metadata": {},
   "source": [
    "### Classification and hyperparameter tuning\n",
    "#### We have come far now! At this point we transformed the documents we had into features we can use to train our final models. We used LDA and Word2Vec to extract sensible feature data from the documents. Now we're going to apply a few supervised classifiers to be able to predict what text belongs to which emotion."
   ]
  },
  {
   "cell_type": "code",
   "execution_count": 39,
   "metadata": {},
   "outputs": [],
   "source": [
    "label_encoder = LabelEncoder()\n",
    "\n",
    "label_encoder.fit(df.emotion)\n",
    "df['emotion_id'] = label_encoder.transform(df.emotion)"
   ]
  },
  {
   "cell_type": "code",
   "execution_count": 40,
   "metadata": {},
   "outputs": [],
   "source": [
    "def get_cross_validated_model(model, param_grid, X, y, nr_folds=5):\n",
    "    \"\"\" Trains a model by doing a grid search combined with cross validation.\n",
    "    args:\n",
    "        model: your model\n",
    "        param_grid: dict of parameter values for the grid search\n",
    "    returns:\n",
    "        Model trained on entire dataset with hyperparameters chosen from best results in the grid search.\n",
    "    \"\"\"\n",
    "    # train the model (since the evaluation is based on the logloss, we'll use neg_log_loss here)\n",
    "    grid_cv = GridSearchCV(model, param_grid=param_grid, scoring='neg_log_loss', cv=nr_folds, n_jobs=-1, verbose=True)\n",
    "    best_model = grid_cv.fit(X, y)\n",
    "    # show top models with parameter values\n",
    "    result_df = pd.DataFrame(best_model.cv_results_)\n",
    "    show_columns = ['mean_test_score', 'mean_train_score', 'rank_test_score']\n",
    "    for col in result_df.columns:\n",
    "        if col.startswith('param_'):\n",
    "            show_columns.append(col)\n",
    "    display(result_df[show_columns].sort_values(by='rank_test_score').head())\n",
    "    return best_model"
   ]
  },
  {
   "cell_type": "code",
   "execution_count": 41,
   "metadata": {},
   "outputs": [],
   "source": [
    "# since train_data['lda_features'] and train_data['w2v_features'] don't have the needed shape and type yet,\n",
    "# we first have to transform every entry\n",
    "X_train_lda = np.array(list(map(np.array, df.lda_features)))\n",
    "X_train_w2v = np.array(list(map(np.array, df.w2v_features)))\n",
    "X_train_combined = np.append(X_train_lda, X_train_w2v, axis=1)"
   ]
  },
  {
   "cell_type": "markdown",
   "metadata": {},
   "source": [
    "#### Note: since we are dealing with log loss and not simply accuracy, we have to choose models that support the method predict_proba. If you're interested in what classifiers in the sklearn package support this method, you can execute the next cell.\n",
    "\n",
    "##### from sklearn.utils.testing import all_estimators\n",
    "###### estimators = all_estimators()\n",
    "##### for name, class in estimators: if hasattr(class, 'predict_proba'): print(name)"
   ]
  },
  {
   "cell_type": "code",
   "execution_count": 42,
   "metadata": {},
   "outputs": [],
   "source": [
    "# store all models in a dictionary\n",
    "models = dict()"
   ]
  },
  {
   "cell_type": "code",
   "execution_count": 43,
   "metadata": {},
   "outputs": [
    {
     "name": "stdout",
     "output_type": "stream",
     "text": [
      "Fitting 5 folds for each of 2 candidates, totalling 10 fits\n"
     ]
    },
    {
     "name": "stderr",
     "output_type": "stream",
     "text": [
      "[Parallel(n_jobs=-1)]: Done  10 out of  10 | elapsed:   21.7s finished\n",
      "C:\\Users\\Sawan\\Anaconda3\\lib\\site-packages\\sklearn\\utils\\deprecation.py:122: FutureWarning: You are accessing a training score ('split0_train_score'), which will not be available by default any more in 0.21. If you need training scores, please set return_train_score=True\n",
      "  warnings.warn(*warn_args, **warn_kwargs)\n",
      "C:\\Users\\Sawan\\Anaconda3\\lib\\site-packages\\sklearn\\utils\\deprecation.py:122: FutureWarning: You are accessing a training score ('split1_train_score'), which will not be available by default any more in 0.21. If you need training scores, please set return_train_score=True\n",
      "  warnings.warn(*warn_args, **warn_kwargs)\n",
      "C:\\Users\\Sawan\\Anaconda3\\lib\\site-packages\\sklearn\\utils\\deprecation.py:122: FutureWarning: You are accessing a training score ('split2_train_score'), which will not be available by default any more in 0.21. If you need training scores, please set return_train_score=True\n",
      "  warnings.warn(*warn_args, **warn_kwargs)\n",
      "C:\\Users\\Sawan\\Anaconda3\\lib\\site-packages\\sklearn\\utils\\deprecation.py:122: FutureWarning: You are accessing a training score ('split3_train_score'), which will not be available by default any more in 0.21. If you need training scores, please set return_train_score=True\n",
      "  warnings.warn(*warn_args, **warn_kwargs)\n",
      "C:\\Users\\Sawan\\Anaconda3\\lib\\site-packages\\sklearn\\utils\\deprecation.py:122: FutureWarning: You are accessing a training score ('split4_train_score'), which will not be available by default any more in 0.21. If you need training scores, please set return_train_score=True\n",
      "  warnings.warn(*warn_args, **warn_kwargs)\n",
      "C:\\Users\\Sawan\\Anaconda3\\lib\\site-packages\\sklearn\\utils\\deprecation.py:122: FutureWarning: You are accessing a training score ('mean_train_score'), which will not be available by default any more in 0.21. If you need training scores, please set return_train_score=True\n",
      "  warnings.warn(*warn_args, **warn_kwargs)\n",
      "C:\\Users\\Sawan\\Anaconda3\\lib\\site-packages\\sklearn\\utils\\deprecation.py:122: FutureWarning: You are accessing a training score ('std_train_score'), which will not be available by default any more in 0.21. If you need training scores, please set return_train_score=True\n",
      "  warnings.warn(*warn_args, **warn_kwargs)\n"
     ]
    },
    {
     "data": {
      "text/html": [
       "<div>\n",
       "<style scoped>\n",
       "    .dataframe tbody tr th:only-of-type {\n",
       "        vertical-align: middle;\n",
       "    }\n",
       "\n",
       "    .dataframe tbody tr th {\n",
       "        vertical-align: top;\n",
       "    }\n",
       "\n",
       "    .dataframe thead th {\n",
       "        text-align: right;\n",
       "    }\n",
       "</style>\n",
       "<table border=\"1\" class=\"dataframe\">\n",
       "  <thead>\n",
       "    <tr style=\"text-align: right;\">\n",
       "      <th></th>\n",
       "      <th>mean_test_score</th>\n",
       "      <th>mean_train_score</th>\n",
       "      <th>rank_test_score</th>\n",
       "      <th>param_penalty</th>\n",
       "    </tr>\n",
       "  </thead>\n",
       "  <tbody>\n",
       "    <tr>\n",
       "      <th>0</th>\n",
       "      <td>-1.429751</td>\n",
       "      <td>-1.399955</td>\n",
       "      <td>1</td>\n",
       "      <td>l1</td>\n",
       "    </tr>\n",
       "    <tr>\n",
       "      <th>1</th>\n",
       "      <td>-1.431942</td>\n",
       "      <td>-1.405334</td>\n",
       "      <td>2</td>\n",
       "      <td>l2</td>\n",
       "    </tr>\n",
       "  </tbody>\n",
       "</table>\n",
       "</div>"
      ],
      "text/plain": [
       "   mean_test_score  mean_train_score  rank_test_score param_penalty\n",
       "0 -1.429751        -1.399955          1                l1          \n",
       "1 -1.431942        -1.405334          2                l2          "
      ]
     },
     "metadata": {},
     "output_type": "display_data"
    }
   ],
   "source": [
    "# LDA features only\n",
    "lr = LogisticRegression()\n",
    "\n",
    "param_grid = {'penalty': ['l1', 'l2']}\n",
    "\n",
    "best_lr_lda = get_cross_validated_model(lr, param_grid, X_train_lda, df.emotion_id)\n",
    "\n",
    "models['best_lr_lda'] = best_lr_lda"
   ]
  },
  {
   "cell_type": "code",
   "execution_count": 44,
   "metadata": {
    "scrolled": true
   },
   "outputs": [
    {
     "name": "stdout",
     "output_type": "stream",
     "text": [
      "Fitting 5 folds for each of 2 candidates, totalling 10 fits\n"
     ]
    },
    {
     "name": "stderr",
     "output_type": "stream",
     "text": [
      "[Parallel(n_jobs=-1)]: Done  10 out of  10 | elapsed:  1.1min finished\n",
      "C:\\Users\\Sawan\\Anaconda3\\lib\\site-packages\\sklearn\\utils\\deprecation.py:122: FutureWarning: You are accessing a training score ('split0_train_score'), which will not be available by default any more in 0.21. If you need training scores, please set return_train_score=True\n",
      "  warnings.warn(*warn_args, **warn_kwargs)\n",
      "C:\\Users\\Sawan\\Anaconda3\\lib\\site-packages\\sklearn\\utils\\deprecation.py:122: FutureWarning: You are accessing a training score ('split1_train_score'), which will not be available by default any more in 0.21. If you need training scores, please set return_train_score=True\n",
      "  warnings.warn(*warn_args, **warn_kwargs)\n",
      "C:\\Users\\Sawan\\Anaconda3\\lib\\site-packages\\sklearn\\utils\\deprecation.py:122: FutureWarning: You are accessing a training score ('split2_train_score'), which will not be available by default any more in 0.21. If you need training scores, please set return_train_score=True\n",
      "  warnings.warn(*warn_args, **warn_kwargs)\n",
      "C:\\Users\\Sawan\\Anaconda3\\lib\\site-packages\\sklearn\\utils\\deprecation.py:122: FutureWarning: You are accessing a training score ('split3_train_score'), which will not be available by default any more in 0.21. If you need training scores, please set return_train_score=True\n",
      "  warnings.warn(*warn_args, **warn_kwargs)\n",
      "C:\\Users\\Sawan\\Anaconda3\\lib\\site-packages\\sklearn\\utils\\deprecation.py:122: FutureWarning: You are accessing a training score ('split4_train_score'), which will not be available by default any more in 0.21. If you need training scores, please set return_train_score=True\n",
      "  warnings.warn(*warn_args, **warn_kwargs)\n",
      "C:\\Users\\Sawan\\Anaconda3\\lib\\site-packages\\sklearn\\utils\\deprecation.py:122: FutureWarning: You are accessing a training score ('mean_train_score'), which will not be available by default any more in 0.21. If you need training scores, please set return_train_score=True\n",
      "  warnings.warn(*warn_args, **warn_kwargs)\n",
      "C:\\Users\\Sawan\\Anaconda3\\lib\\site-packages\\sklearn\\utils\\deprecation.py:122: FutureWarning: You are accessing a training score ('std_train_score'), which will not be available by default any more in 0.21. If you need training scores, please set return_train_score=True\n",
      "  warnings.warn(*warn_args, **warn_kwargs)\n"
     ]
    },
    {
     "data": {
      "text/html": [
       "<div>\n",
       "<style scoped>\n",
       "    .dataframe tbody tr th:only-of-type {\n",
       "        vertical-align: middle;\n",
       "    }\n",
       "\n",
       "    .dataframe tbody tr th {\n",
       "        vertical-align: top;\n",
       "    }\n",
       "\n",
       "    .dataframe thead th {\n",
       "        text-align: right;\n",
       "    }\n",
       "</style>\n",
       "<table border=\"1\" class=\"dataframe\">\n",
       "  <thead>\n",
       "    <tr style=\"text-align: right;\">\n",
       "      <th></th>\n",
       "      <th>mean_test_score</th>\n",
       "      <th>mean_train_score</th>\n",
       "      <th>rank_test_score</th>\n",
       "      <th>param_penalty</th>\n",
       "    </tr>\n",
       "  </thead>\n",
       "  <tbody>\n",
       "    <tr>\n",
       "      <th>0</th>\n",
       "      <td>-1.297046</td>\n",
       "      <td>-1.286023</td>\n",
       "      <td>1</td>\n",
       "      <td>l1</td>\n",
       "    </tr>\n",
       "    <tr>\n",
       "      <th>1</th>\n",
       "      <td>-1.300440</td>\n",
       "      <td>-1.290409</td>\n",
       "      <td>2</td>\n",
       "      <td>l2</td>\n",
       "    </tr>\n",
       "  </tbody>\n",
       "</table>\n",
       "</div>"
      ],
      "text/plain": [
       "   mean_test_score  mean_train_score  rank_test_score param_penalty\n",
       "0 -1.297046        -1.286023          1                l1          \n",
       "1 -1.300440        -1.290409          2                l2          "
      ]
     },
     "metadata": {},
     "output_type": "display_data"
    }
   ],
   "source": [
    "# Word2Vec features only\n",
    "lr = LogisticRegression()\n",
    "\n",
    "param_grid = {'penalty': ['l1', 'l2']}\n",
    "\n",
    "best_lr_w2v = get_cross_validated_model(lr, param_grid, X_train_w2v, df.emotion_id)\n",
    "\n",
    "models['best_lr_w2v'] = best_lr_w2v"
   ]
  },
  {
   "cell_type": "code",
   "execution_count": 45,
   "metadata": {},
   "outputs": [
    {
     "name": "stdout",
     "output_type": "stream",
     "text": [
      "Fitting 5 folds for each of 2 candidates, totalling 10 fits\n"
     ]
    },
    {
     "name": "stderr",
     "output_type": "stream",
     "text": [
      "[Parallel(n_jobs=-1)]: Done  10 out of  10 | elapsed:  2.3min finished\n",
      "C:\\Users\\Sawan\\Anaconda3\\lib\\site-packages\\sklearn\\utils\\deprecation.py:122: FutureWarning: You are accessing a training score ('split0_train_score'), which will not be available by default any more in 0.21. If you need training scores, please set return_train_score=True\n",
      "  warnings.warn(*warn_args, **warn_kwargs)\n",
      "C:\\Users\\Sawan\\Anaconda3\\lib\\site-packages\\sklearn\\utils\\deprecation.py:122: FutureWarning: You are accessing a training score ('split1_train_score'), which will not be available by default any more in 0.21. If you need training scores, please set return_train_score=True\n",
      "  warnings.warn(*warn_args, **warn_kwargs)\n",
      "C:\\Users\\Sawan\\Anaconda3\\lib\\site-packages\\sklearn\\utils\\deprecation.py:122: FutureWarning: You are accessing a training score ('split2_train_score'), which will not be available by default any more in 0.21. If you need training scores, please set return_train_score=True\n",
      "  warnings.warn(*warn_args, **warn_kwargs)\n",
      "C:\\Users\\Sawan\\Anaconda3\\lib\\site-packages\\sklearn\\utils\\deprecation.py:122: FutureWarning: You are accessing a training score ('split3_train_score'), which will not be available by default any more in 0.21. If you need training scores, please set return_train_score=True\n",
      "  warnings.warn(*warn_args, **warn_kwargs)\n",
      "C:\\Users\\Sawan\\Anaconda3\\lib\\site-packages\\sklearn\\utils\\deprecation.py:122: FutureWarning: You are accessing a training score ('split4_train_score'), which will not be available by default any more in 0.21. If you need training scores, please set return_train_score=True\n",
      "  warnings.warn(*warn_args, **warn_kwargs)\n",
      "C:\\Users\\Sawan\\Anaconda3\\lib\\site-packages\\sklearn\\utils\\deprecation.py:122: FutureWarning: You are accessing a training score ('mean_train_score'), which will not be available by default any more in 0.21. If you need training scores, please set return_train_score=True\n",
      "  warnings.warn(*warn_args, **warn_kwargs)\n",
      "C:\\Users\\Sawan\\Anaconda3\\lib\\site-packages\\sklearn\\utils\\deprecation.py:122: FutureWarning: You are accessing a training score ('std_train_score'), which will not be available by default any more in 0.21. If you need training scores, please set return_train_score=True\n",
      "  warnings.warn(*warn_args, **warn_kwargs)\n"
     ]
    },
    {
     "data": {
      "text/html": [
       "<div>\n",
       "<style scoped>\n",
       "    .dataframe tbody tr th:only-of-type {\n",
       "        vertical-align: middle;\n",
       "    }\n",
       "\n",
       "    .dataframe tbody tr th {\n",
       "        vertical-align: top;\n",
       "    }\n",
       "\n",
       "    .dataframe thead th {\n",
       "        text-align: right;\n",
       "    }\n",
       "</style>\n",
       "<table border=\"1\" class=\"dataframe\">\n",
       "  <thead>\n",
       "    <tr style=\"text-align: right;\">\n",
       "      <th></th>\n",
       "      <th>mean_test_score</th>\n",
       "      <th>mean_train_score</th>\n",
       "      <th>rank_test_score</th>\n",
       "      <th>param_penalty</th>\n",
       "    </tr>\n",
       "  </thead>\n",
       "  <tbody>\n",
       "    <tr>\n",
       "      <th>0</th>\n",
       "      <td>-1.271167</td>\n",
       "      <td>-1.236991</td>\n",
       "      <td>1</td>\n",
       "      <td>l1</td>\n",
       "    </tr>\n",
       "    <tr>\n",
       "      <th>1</th>\n",
       "      <td>-1.271373</td>\n",
       "      <td>-1.237408</td>\n",
       "      <td>2</td>\n",
       "      <td>l2</td>\n",
       "    </tr>\n",
       "  </tbody>\n",
       "</table>\n",
       "</div>"
      ],
      "text/plain": [
       "   mean_test_score  mean_train_score  rank_test_score param_penalty\n",
       "0 -1.271167        -1.236991          1                l1          \n",
       "1 -1.271373        -1.237408          2                l2          "
      ]
     },
     "metadata": {},
     "output_type": "display_data"
    }
   ],
   "source": [
    "# LDA and Word2Vec combined\n",
    "lr = LogisticRegression()\n",
    "\n",
    "param_grid = {'penalty': ['l1', 'l2']}\n",
    "\n",
    "best_lr_combined = get_cross_validated_model(lr, param_grid, X_train_combined, df.emotion_id)\n",
    "\n",
    "models['best_lr_combined'] = best_lr_combined"
   ]
  },
  {
   "cell_type": "markdown",
   "metadata": {},
   "source": [
    "### Model Selection ¶\n",
    "#### Now let's get clear what model performed best."
   ]
  },
  {
   "cell_type": "code",
   "execution_count": 47,
   "metadata": {},
   "outputs": [
    {
     "name": "stdout",
     "output_type": "stream",
     "text": [
      "Model best_lr_lda has a test score of: -1.4298\n",
      "Model best_lr_w2v has a test score of: -1.2970\n",
      "Model best_lr_combined has a test score of: -1.2712\n"
     ]
    }
   ],
   "source": [
    "for name, model in models.items():\n",
    "    print(\"Model {} has a test score of: {:0.4f}\".format(name, float(model.best_score_)))"
   ]
  },
  {
   "cell_type": "markdown",
   "metadata": {},
   "source": [
    "#### Thus logistic regression with combined LDA and word2vec features wins!\n",
    "\n",
    "### Now we come to the point where we can make predictions"
   ]
  },
  {
   "cell_type": "code",
   "execution_count": 49,
   "metadata": {},
   "outputs": [
    {
     "data": {
      "text/html": [
       "<div>\n",
       "<style scoped>\n",
       "    .dataframe tbody tr th:only-of-type {\n",
       "        vertical-align: middle;\n",
       "    }\n",
       "\n",
       "    .dataframe tbody tr th {\n",
       "        vertical-align: top;\n",
       "    }\n",
       "\n",
       "    .dataframe thead th {\n",
       "        text-align: right;\n",
       "    }\n",
       "</style>\n",
       "<table border=\"1\" class=\"dataframe\">\n",
       "  <thead>\n",
       "    <tr style=\"text-align: right;\">\n",
       "      <th></th>\n",
       "      <th>id</th>\n",
       "      <th>name</th>\n",
       "      <th>tweet</th>\n",
       "      <th>cleaned_tweet</th>\n",
       "      <th>fully_cleaned_tweet</th>\n",
       "      <th>text</th>\n",
       "      <th>category</th>\n",
       "      <th>sentiment</th>\n",
       "    </tr>\n",
       "  </thead>\n",
       "  <tbody>\n",
       "    <tr>\n",
       "      <th>0</th>\n",
       "      <td>593891099434983425</td>\n",
       "      <td>Silver Shoes</td>\n",
       "      <td>RT @KirkKus: Indirect cost of the UK being in the EU is estimated to be costing Britain £170 billion per year! #BetterOffOut #UKIP</td>\n",
       "      <td>kirkkus  indirect cost  the  being  the   estimated   costing britain  170 billion per year</td>\n",
       "      <td>kirkkus indirect cost the being the estimated costing britain 170 billion per year</td>\n",
       "      <td>kirkkus indirect cost the being the estimated costing britain 170 billion per year</td>\n",
       "      <td>male</td>\n",
       "      <td>0.0</td>\n",
       "    </tr>\n",
       "    <tr>\n",
       "      <th>3</th>\n",
       "      <td>593891100429045760</td>\n",
       "      <td>Rachel</td>\n",
       "      <td>RT @GregLauder: the UKIP east lothian candidate looks about 16 and still has an msn addy http://t.co/7eIU0c5Fm1</td>\n",
       "      <td>greglauder  the ukip east lothian candidate looks about 16 and still has  msn addy</td>\n",
       "      <td>greglauder the ukip east lothian candidate looks about 16 and still has msn addy</td>\n",
       "      <td>greglauder the ukip east lothian candidate looks about 16 and still has msn addy</td>\n",
       "      <td>female</td>\n",
       "      <td>0.0</td>\n",
       "    </tr>\n",
       "  </tbody>\n",
       "</table>\n",
       "</div>"
      ],
      "text/plain": [
       "                   id          name  \\\n",
       "0  593891099434983425  Silver Shoes   \n",
       "3  593891100429045760  Rachel         \n",
       "\n",
       "                                                                                                                                tweet  \\\n",
       "0  RT @KirkKus: Indirect cost of the UK being in the EU is estimated to be costing Britain £170 billion per year! #BetterOffOut #UKIP   \n",
       "3  RT @GregLauder: the UKIP east lothian candidate looks about 16 and still has an msn addy http://t.co/7eIU0c5Fm1                      \n",
       "\n",
       "                                                                                  cleaned_tweet  \\\n",
       "0  kirkkus  indirect cost  the  being  the   estimated   costing britain  170 billion per year    \n",
       "3  greglauder  the ukip east lothian candidate looks about 16 and still has  msn addy             \n",
       "\n",
       "                                                                  fully_cleaned_tweet  \\\n",
       "0  kirkkus indirect cost the being the estimated costing britain 170 billion per year   \n",
       "3  greglauder the ukip east lothian candidate looks about 16 and still has msn addy     \n",
       "\n",
       "                                                                                 text  \\\n",
       "0  kirkkus indirect cost the being the estimated costing britain 170 billion per year   \n",
       "3  greglauder the ukip east lothian candidate looks about 16 and still has msn addy     \n",
       "\n",
       "  category  sentiment  \n",
       "0  male     0.0        \n",
       "3  female   0.0        "
      ]
     },
     "execution_count": 49,
     "metadata": {},
     "output_type": "execute_result"
    }
   ],
   "source": [
    "# see test data\n",
    "test_data.head(2)"
   ]
  },
  {
   "cell_type": "markdown",
   "metadata": {},
   "source": [
    "#### Let's repeat our preprocessing steps now.  we made a nice preprocessing functions above that does everything for us now."
   ]
  },
  {
   "cell_type": "code",
   "execution_count": 50,
   "metadata": {},
   "outputs": [],
   "source": [
    "lda_preprocessing(test_data)\n",
    "w2v_preprocessing(test_data)"
   ]
  },
  {
   "cell_type": "code",
   "execution_count": 51,
   "metadata": {},
   "outputs": [
    {
     "name": "stderr",
     "output_type": "stream",
     "text": [
      "C:\\Users\\Sawan\\Anaconda3\\lib\\site-packages\\ipykernel_launcher.py:16: DeprecationWarning: Call to deprecated `__getitem__` (Method will be removed in 4.0.0, use self.wv.__getitem__() instead).\n",
      "  app.launch_new_instance()\n"
     ]
    }
   ],
   "source": [
    "test_data['lda_features'] = list(map(lambda doc:\n",
    "                                     document_to_lda_features(LDAmodel, doc),\n",
    "                                     test_data.bow))\n",
    "\n",
    "test_data = test_data[test_data.astype(str)['tokenized_sentences'] != '[]']\n",
    "test_data['w2v_features'] = list(map(lambda sen_group:\n",
    "                                     get_w2v_features(W2Vmodel, sen_group),\n",
    "                                     test_data.tokenized_sentences))"
   ]
  },
  {
   "cell_type": "code",
   "execution_count": 52,
   "metadata": {},
   "outputs": [],
   "source": [
    "df['emotion_id'] = label_encoder.transform(df.emotion)"
   ]
  },
  {
   "cell_type": "code",
   "execution_count": 53,
   "metadata": {},
   "outputs": [],
   "source": [
    "X_test_lda = np.array(list(map(np.array, test_data.lda_features)))\n",
    "X_test_w2v = np.array(list(map(np.array, test_data.w2v_features)))\n",
    "X_test_combined = np.append(X_test_lda, X_test_w2v, axis=1)"
   ]
  },
  {
   "cell_type": "markdown",
   "metadata": {},
   "source": [
    "### Now it's time to make the classifications."
   ]
  },
  {
   "cell_type": "code",
   "execution_count": 54,
   "metadata": {},
   "outputs": [],
   "source": [
    "submission_predictions = best_lr_combined.predict_proba(X_test_combined)"
   ]
  },
  {
   "cell_type": "code",
   "execution_count": 55,
   "metadata": {},
   "outputs": [
    {
     "data": {
      "text/plain": [
       "array(['anger', 'disgust', 'fear', 'joy', 'sadness', 'surprise'],\n",
       "      dtype=object)"
      ]
     },
     "execution_count": 55,
     "metadata": {},
     "output_type": "execute_result"
    }
   ],
   "source": [
    "label_encoder.classes_"
   ]
  },
  {
   "cell_type": "code",
   "execution_count": 56,
   "metadata": {},
   "outputs": [],
   "source": [
    "result = np.append(test_data.text.values.reshape(-1,1), submission_predictions, axis=1)"
   ]
  },
  {
   "cell_type": "code",
   "execution_count": 57,
   "metadata": {},
   "outputs": [],
   "source": [
    "submission_df = pd.DataFrame(data=result, columns=['text', 'anger', 'disgust', 'fear', 'joy', 'sadness', 'surprise'])"
   ]
  },
  {
   "cell_type": "code",
   "execution_count": 74,
   "metadata": {},
   "outputs": [],
   "source": [
    "submission_df[['anger', 'disgust', 'fear', 'joy', 'sadness', 'surprise']] = submission_df[['anger', 'disgust', 'fear', 'joy', 'sadness', 'surprise']].astype(float)\n",
    "submission_df[\"emotion\"] = submission_df[['anger', 'disgust', 'fear', 'joy', 'sadness', 'surprise']].idxmax(axis=1)"
   ]
  },
  {
   "cell_type": "code",
   "execution_count": 75,
   "metadata": {
    "scrolled": true
   },
   "outputs": [
    {
     "data": {
      "text/html": [
       "<div>\n",
       "<style scoped>\n",
       "    .dataframe tbody tr th:only-of-type {\n",
       "        vertical-align: middle;\n",
       "    }\n",
       "\n",
       "    .dataframe tbody tr th {\n",
       "        vertical-align: top;\n",
       "    }\n",
       "\n",
       "    .dataframe thead th {\n",
       "        text-align: right;\n",
       "    }\n",
       "</style>\n",
       "<table border=\"1\" class=\"dataframe\">\n",
       "  <thead>\n",
       "    <tr style=\"text-align: right;\">\n",
       "      <th></th>\n",
       "      <th>text</th>\n",
       "      <th>anger</th>\n",
       "      <th>disgust</th>\n",
       "      <th>fear</th>\n",
       "      <th>joy</th>\n",
       "      <th>sadness</th>\n",
       "      <th>surprise</th>\n",
       "      <th>emotion</th>\n",
       "    </tr>\n",
       "  </thead>\n",
       "  <tbody>\n",
       "    <tr>\n",
       "      <th>0</th>\n",
       "      <td>kirkkus indirect cost the being the estimated costing britain 170 billion per year</td>\n",
       "      <td>0.030173</td>\n",
       "      <td>0.040721</td>\n",
       "      <td>0.178593</td>\n",
       "      <td>0.524151</td>\n",
       "      <td>0.102776</td>\n",
       "      <td>0.123587</td>\n",
       "      <td>joy</td>\n",
       "    </tr>\n",
       "    <tr>\n",
       "      <th>1</th>\n",
       "      <td>greglauder the ukip east lothian candidate looks about 16 and still has msn addy</td>\n",
       "      <td>0.058808</td>\n",
       "      <td>0.033388</td>\n",
       "      <td>0.105170</td>\n",
       "      <td>0.589311</td>\n",
       "      <td>0.153710</td>\n",
       "      <td>0.059614</td>\n",
       "      <td>joy</td>\n",
       "    </tr>\n",
       "    <tr>\n",
       "      <th>2</th>\n",
       "      <td>joannetallis milliband embarrassment would you want him representing the vote conservatives</td>\n",
       "      <td>0.200689</td>\n",
       "      <td>0.057335</td>\n",
       "      <td>0.275664</td>\n",
       "      <td>0.078978</td>\n",
       "      <td>0.172030</td>\n",
       "      <td>0.215303</td>\n",
       "      <td>fear</td>\n",
       "    </tr>\n",
       "    <tr>\n",
       "      <th>3</th>\n",
       "      <td>nivenj1 george osborne miliband proved tonight why hes not the job tbf youve spent 5 years doing that you salivating</td>\n",
       "      <td>0.088482</td>\n",
       "      <td>0.036287</td>\n",
       "      <td>0.116287</td>\n",
       "      <td>0.250037</td>\n",
       "      <td>0.281013</td>\n",
       "      <td>0.227895</td>\n",
       "      <td>sadness</td>\n",
       "    </tr>\n",
       "    <tr>\n",
       "      <th>4</th>\n",
       "      <td>lolz trickle down wealth its never trickling past their own wallets greed always wins for the greedy</td>\n",
       "      <td>0.098240</td>\n",
       "      <td>0.067927</td>\n",
       "      <td>0.244308</td>\n",
       "      <td>0.255673</td>\n",
       "      <td>0.225384</td>\n",
       "      <td>0.108467</td>\n",
       "      <td>joy</td>\n",
       "    </tr>\n",
       "  </tbody>\n",
       "</table>\n",
       "</div>"
      ],
      "text/plain": [
       "                                                                                                                   text  \\\n",
       "0  kirkkus indirect cost the being the estimated costing britain 170 billion per year                                     \n",
       "1  greglauder the ukip east lothian candidate looks about 16 and still has msn addy                                       \n",
       "2  joannetallis milliband embarrassment would you want him representing the vote conservatives                            \n",
       "3  nivenj1 george osborne miliband proved tonight why hes not the job tbf youve spent 5 years doing that you salivating   \n",
       "4  lolz trickle down wealth its never trickling past their own wallets greed always wins for the greedy                   \n",
       "\n",
       "      anger   disgust      fear       joy   sadness  surprise  emotion  \n",
       "0  0.030173  0.040721  0.178593  0.524151  0.102776  0.123587  joy      \n",
       "1  0.058808  0.033388  0.105170  0.589311  0.153710  0.059614  joy      \n",
       "2  0.200689  0.057335  0.275664  0.078978  0.172030  0.215303  fear     \n",
       "3  0.088482  0.036287  0.116287  0.250037  0.281013  0.227895  sadness  \n",
       "4  0.098240  0.067927  0.244308  0.255673  0.225384  0.108467  joy      "
      ]
     },
     "execution_count": 75,
     "metadata": {},
     "output_type": "execute_result"
    }
   ],
   "source": [
    "submission_df.head()"
   ]
  },
  {
   "cell_type": "markdown",
   "metadata": {},
   "source": [
    "### I have categorized emotions of tweets on basis of maximum probability score, but if we can set a threshold we can categorize tweets into multiple categories."
   ]
  }
 ],
 "metadata": {
  "kernelspec": {
   "display_name": "Python 3",
   "language": "python",
   "name": "python3"
  },
  "language_info": {
   "codemirror_mode": {
    "name": "ipython",
    "version": 3
   },
   "file_extension": ".py",
   "mimetype": "text/x-python",
   "name": "python",
   "nbconvert_exporter": "python",
   "pygments_lexer": "ipython3",
   "version": "3.7.0"
  }
 },
 "nbformat": 4,
 "nbformat_minor": 2
}
